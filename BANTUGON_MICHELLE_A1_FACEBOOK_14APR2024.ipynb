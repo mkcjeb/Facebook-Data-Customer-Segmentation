{
 "cells": [
  {
   "cell_type": "markdown",
   "id": "ef5adc62",
   "metadata": {},
   "source": [
    "<hr style=\"height:.9px;border:none;color:#333;background-color:#333;\" />\n",
    "<hr style=\"height:.9px;border:none;color:#333;background-color:#333;\" />\n",
    "\n",
    "<br><h2>Unsupervised Analysis Project</h2>\n",
    "<h4>DAT-5329 | Introduction to Machine Learning & AI </h4>\n",
    "Facebook Live Data<br>\n",
    "Michelle Kae Celine Jo-anne Bantugon<br>\n",
    "Hult International Business School<br>\n",
    "April 12, 2024 <br><br><br>\n",
    "\n",
    "<hr style=\"height:.9px;border:none;color:#333;background-color:#333;\" />\n",
    "<hr style=\"height:.9px;border:none;color:#333;background-color:#333;\" />"
   ]
  },
  {
   "cell_type": "markdown",
   "id": "a154549f",
   "metadata": {},
   "source": [
    "<h3> Introduction </h3>\n",
    "\n",
    "As digitalization and the use of social media continue to increase, platforms like Facebook have become vital for small vendors to expand their reach and engage with a larger audience especially in Thailand. This transformation has significantly influenced marketing strategies, particularly in how individuals interact with Facebook content. Engagement refers to various actions users take on posts, pages, groups, or ads, including comments, shares, likes, and reactions like love, wow, haha, angry, and sad. This analysis focuses on studying the impact of photo content on Facebook engagement in Thailand. It employs various machine learning techniques such as Logistic Regression, Principal Component Analysis (PCA), and k-means clustering to analyze the variability of consumer engagement. By understanding the effectiveness of different types of content based on engagement metrics, this analysis aims to provide valuable insights to marketing firms and social media consultants. These insights can help optimize content creation strategies and increase engagement on Facebook in Thailand's dynamic social media environment.\n",
    "\n",
    "<h3> Conclusion </h3><br>\n",
    "The analysis showed valuable insights into the impact of different types of content, particularly photos, on Facebook engagement in Thailand. Across various clusters, photos come out as a popular and effective means of communication, prompting positive reactions such as likes and wows as engagement. Moreover, the study also highlights the importance of diversifying content strategies to cater to different audience preferences. While some clusters demonstrate a strong preference for photo posts, others show greater engagement with video or text content.\n",
    "\n",
    "<h3> Recommendation </h3>\n",
    "\n",
    "<b>1. Content and Relationship Strategy</b><br>\n",
    "- Photo Emphasis<br>\n",
    "With the popularity of photos, company should focus on creating visually appealing and engaging photo content. Use high-quality images that are likely to stimulate positive emotions and encourage likes. \n",
    "- Diversification <br>\n",
    "While photos are popular, consider diversifying content with videos and text posts to cater to different audience preferences. Cluster 3, for example, shows a strong interest in videos, suggesting an opportunity to explore video content creation.\n",
    "- Emotional Appeal <br>\n",
    "Ensure that the content create positive emotions such as happiness, excitement, or inspiration, as these are more likely to result in likes and positive engagement. This is aligned with the findings by Lee et al. (2016) who found out that enjoyment of content and interpersonal relationships were the two most common motives for liking.\n",
    "\n",
    "<b>2. Engagement Strategies</b><br>\n",
    "\n",
    "- Interactive Content<br>\n",
    "Create engaging and interactive content that encourages comments, shares, and other forms of reactions. The use of unusual, participatory activities such as contests, games, and artistic performances will drive reactions and comments (Apiradee Wongkitrungrueng, Nassim Dehouche & Nuttapol Assarut, 2020).\n",
    "- Storytelling<br>\n",
    "Use storytelling techniques to make your content more relatable and engaging. People tend to engage more with content that resonates with them on a personal level.\n",
    "\n",
    "<b>2. Track Performance</b><br>\n",
    "- Monitor and evaluate photo content performance metrics and other status types on a regular basis to find out what appeals to the audience. Utilize analytical tools to monitor engagement metrics such as likes, shares, comments, and others.\n"
   ]
  },
  {
   "cell_type": "markdown",
   "id": "caad26e7",
   "metadata": {},
   "source": [
    "<h4>Part I: Preparation and Exploration</h4>\n",
    "<h4>a) Package and Dataset Imports</h4>"
   ]
  },
  {
   "cell_type": "code",
   "execution_count": 1,
   "id": "a5bba022",
   "metadata": {
    "scrolled": true
   },
   "outputs": [
    {
     "data": {
      "text/html": [
       "<div>\n",
       "<style scoped>\n",
       "    .dataframe tbody tr th:only-of-type {\n",
       "        vertical-align: middle;\n",
       "    }\n",
       "\n",
       "    .dataframe tbody tr th {\n",
       "        vertical-align: top;\n",
       "    }\n",
       "\n",
       "    .dataframe thead th {\n",
       "        text-align: right;\n",
       "    }\n",
       "</style>\n",
       "<table border=\"1\" class=\"dataframe\">\n",
       "  <thead>\n",
       "    <tr style=\"text-align: right;\">\n",
       "      <th></th>\n",
       "      <th>status_id</th>\n",
       "      <th>status_type</th>\n",
       "      <th>time_published</th>\n",
       "      <th>num_comments</th>\n",
       "      <th>num_shares</th>\n",
       "      <th>num_likes</th>\n",
       "      <th>num_loves</th>\n",
       "      <th>num_wows</th>\n",
       "      <th>num_hahas</th>\n",
       "      <th>num_sads</th>\n",
       "      <th>num_angrys</th>\n",
       "    </tr>\n",
       "  </thead>\n",
       "  <tbody>\n",
       "    <tr>\n",
       "      <th>0</th>\n",
       "      <td>1</td>\n",
       "      <td>photo</td>\n",
       "      <td>2023-07-04 22:45:00</td>\n",
       "      <td>0</td>\n",
       "      <td>0</td>\n",
       "      <td>150</td>\n",
       "      <td>0</td>\n",
       "      <td>0</td>\n",
       "      <td>0</td>\n",
       "      <td>0</td>\n",
       "      <td>0</td>\n",
       "    </tr>\n",
       "    <tr>\n",
       "      <th>1</th>\n",
       "      <td>2</td>\n",
       "      <td>photo</td>\n",
       "      <td>2023-06-23 01:01:00</td>\n",
       "      <td>2</td>\n",
       "      <td>3</td>\n",
       "      <td>202</td>\n",
       "      <td>7</td>\n",
       "      <td>1</td>\n",
       "      <td>0</td>\n",
       "      <td>0</td>\n",
       "      <td>0</td>\n",
       "    </tr>\n",
       "    <tr>\n",
       "      <th>2</th>\n",
       "      <td>3</td>\n",
       "      <td>photo</td>\n",
       "      <td>2023-06-21 02:23:00</td>\n",
       "      <td>4</td>\n",
       "      <td>0</td>\n",
       "      <td>200</td>\n",
       "      <td>8</td>\n",
       "      <td>1</td>\n",
       "      <td>0</td>\n",
       "      <td>0</td>\n",
       "      <td>0</td>\n",
       "    </tr>\n",
       "    <tr>\n",
       "      <th>3</th>\n",
       "      <td>4</td>\n",
       "      <td>video</td>\n",
       "      <td>2023-06-14 05:16:00</td>\n",
       "      <td>100</td>\n",
       "      <td>30</td>\n",
       "      <td>303</td>\n",
       "      <td>23</td>\n",
       "      <td>1</td>\n",
       "      <td>5</td>\n",
       "      <td>0</td>\n",
       "      <td>0</td>\n",
       "    </tr>\n",
       "    <tr>\n",
       "      <th>4</th>\n",
       "      <td>5</td>\n",
       "      <td>video</td>\n",
       "      <td>2023-06-08 08:28:00</td>\n",
       "      <td>173</td>\n",
       "      <td>47</td>\n",
       "      <td>132</td>\n",
       "      <td>16</td>\n",
       "      <td>1</td>\n",
       "      <td>0</td>\n",
       "      <td>1</td>\n",
       "      <td>0</td>\n",
       "    </tr>\n",
       "  </tbody>\n",
       "</table>\n",
       "</div>"
      ],
      "text/plain": [
       "   status_id status_type      time_published  num_comments  num_shares  num_likes  num_loves  num_wows  num_hahas  num_sads  num_angrys\n",
       "0          1       photo 2023-07-04 22:45:00             0           0        150          0         0          0         0           0\n",
       "1          2       photo 2023-06-23 01:01:00             2           3        202          7         1          0         0           0\n",
       "2          3       photo 2023-06-21 02:23:00             4           0        200          8         1          0         0           0\n",
       "3          4       video 2023-06-14 05:16:00           100          30        303         23         1          5         0           0\n",
       "4          5       video 2023-06-08 08:28:00           173          47        132         16         1          0         1           0"
      ]
     },
     "execution_count": 1,
     "metadata": {},
     "output_type": "execute_result"
    }
   ],
   "source": [
    "########################################\n",
    "# importing packages\n",
    "########################################\n",
    "import numpy                 as np                          # mathematical essentials\n",
    "import pandas                as pd                          # data science essentials\n",
    "import matplotlib.pyplot     as plt                         # fundamental data visualization\n",
    "import seaborn               as sns                         # enhanced visualizations\n",
    "\n",
    "# data preprocessing and modeling\n",
    "from sklearn.preprocessing import power_transform           # for skewness \n",
    "import statsmodels.formula.api as smf                       # logistic regression\n",
    "from sklearn.model_selection import train_test_split        # train/test split\n",
    "from sklearn.metrics import confusion_matrix, roc_auc_score # results analysis\n",
    "from sklearn.cluster import KMeans                          # k-means clustering\n",
    "import sklearn.linear_model                                 # classification modeling\n",
    "from sklearn.metrics import precision_score, recall_score\n",
    "\n",
    "\n",
    "\n",
    "# packages for unsupervised learning\n",
    "from sklearn.preprocessing   import StandardScaler          # standard scaler\n",
    "from sklearn.decomposition   import PCA                     # pca\n",
    "from scipy.cluster.hierarchy import dendrogram, linkage     # dendrograms\n",
    "from sklearn.cluster         import KMeans                  # k-means clustering\n",
    "\n",
    "########################################\n",
    "# loading data and setting display options\n",
    "########################################\n",
    "# loading data\n",
    "facebook_df = pd.read_excel(io = './facebook_live_data.xlsx')\n",
    "\n",
    "# setting pandas print options\n",
    "pd.set_option('display.max_rows', 500)\n",
    "pd.set_option('display.max_columns', 500)\n",
    "pd.set_option('display.width', 1000)\n",
    "\n",
    "# checking results\n",
    "facebook_df.head(n = 5)"
   ]
  },
  {
   "cell_type": "markdown",
   "id": "08f5f0dd",
   "metadata": {},
   "source": [
    "<h4> User-defined functions </h4>"
   ]
  },
  {
   "cell_type": "code",
   "execution_count": 2,
   "id": "2a7d8837",
   "metadata": {
    "code_folding": []
   },
   "outputs": [],
   "source": [
    "########################################\n",
    "# scree_plot\n",
    "########################################\n",
    "def scree_plot(pca_object, retain_components = None, export = False):\n",
    "    \"\"\"\n",
    "    Visualizes a scree plot from a pca object.\n",
    "    \n",
    "    PARAMETERS\n",
    "    ----------\n",
    "    pca_object | A fitted pca object\n",
    "    export     | Set to True if you would like to save the scree plot to the\n",
    "               | current working directory (default: False)\n",
    "    \"\"\"\n",
    "    # building a scree plot\n",
    "\n",
    "    # setting plot size\n",
    "    fig, ax = plt.subplots(figsize=(10, 8))\n",
    "    features = range(pca_object.n_components_)\n",
    "\n",
    "\n",
    "    # developing a scree plot\n",
    "    plt.plot(features,\n",
    "             pca_object.explained_variance_ratio_,\n",
    "             linewidth = 2,\n",
    "             marker = 'o',\n",
    "             markersize = 10,\n",
    "             markeredgecolor = 'black',\n",
    "             markerfacecolor = 'grey')\n",
    "\n",
    "\n",
    "    # setting more plot options\n",
    "    plt.title('Scree Plot')\n",
    "    plt.xlabel('PCA feature')\n",
    "    plt.ylabel('Explained Variance')\n",
    "    plt.xticks(features)\n",
    "    \n",
    "    # adding a vertical red line for the specified number of components to retain\n",
    "    if retain_components is not None:\n",
    "        plt.axvline(x = retain_components, color ='red', linestyle = 'dashed', label = f'Retain up to PC {retain_components}')\n",
    "\n",
    "    plt.legend()\n",
    "\n",
    "    if export == True:\n",
    "    \n",
    "        # exporting the plot\n",
    "        plt.savefig('./analysis_images/top_customers_correlation_scree_plot.png')\n",
    "        \n",
    "    # displaying the plot\n",
    "    plt.show()\n",
    "\n",
    "\n",
    "########################################\n",
    "# unsupervised_scaler\n",
    "########################################\n",
    "def scaler(df):\n",
    "    \"\"\"\n",
    "    Standardizes a dataset (mean = 0, variance = 1). Returns a new DataFrame.\n",
    "    Requires sklearn.preprocessing.StandardScaler()\n",
    "    \n",
    "    PARAMETERS\n",
    "    ----------\n",
    "    df     | DataFrame to be used for scaling\n",
    "    \"\"\"\n",
    "\n",
    "    # INSTANTIATING a StandardScaler() object\n",
    "    scaler = StandardScaler(copy = True)\n",
    "\n",
    "\n",
    "    # FITTING the scaler with the data\n",
    "    scaler.fit(df)\n",
    "\n",
    "\n",
    "    # TRANSFORMING our data after fit\n",
    "    x_scaled = scaler.transform(df)\n",
    "\n",
    "    \n",
    "    # converting scaled data into a DataFrame\n",
    "    new_df = pd.DataFrame(x_scaled)\n",
    "\n",
    "\n",
    "    # reattaching column names\n",
    "    new_df.columns = list(df.columns)\n",
    "    \n",
    "    return new_df"
   ]
  },
  {
   "cell_type": "code",
   "execution_count": 3,
   "id": "924e0317",
   "metadata": {
    "scrolled": false
   },
   "outputs": [
    {
     "name": "stdout",
     "output_type": "stream",
     "text": [
      "<class 'pandas.core.frame.DataFrame'>\n",
      "RangeIndex: 2362 entries, 0 to 2361\n",
      "Data columns (total 11 columns):\n",
      " #   Column          Non-Null Count  Dtype         \n",
      "---  ------          --------------  -----         \n",
      " 0   status_id       2362 non-null   int64         \n",
      " 1   status_type     2362 non-null   object        \n",
      " 2   time_published  2362 non-null   datetime64[ns]\n",
      " 3   num_comments    2362 non-null   int64         \n",
      " 4   num_shares      2362 non-null   int64         \n",
      " 5   num_likes       2362 non-null   int64         \n",
      " 6   num_loves       2362 non-null   int64         \n",
      " 7   num_wows        2362 non-null   int64         \n",
      " 8   num_hahas       2362 non-null   int64         \n",
      " 9   num_sads        2362 non-null   int64         \n",
      " 10  num_angrys      2362 non-null   int64         \n",
      "dtypes: datetime64[ns](1), int64(9), object(1)\n",
      "memory usage: 203.1+ KB\n"
     ]
    }
   ],
   "source": [
    "# INFOrmation about each variable\n",
    "facebook_df.info(verbose=True)"
   ]
  },
  {
   "cell_type": "code",
   "execution_count": 4,
   "id": "ab7b7d2f",
   "metadata": {
    "scrolled": false
   },
   "outputs": [
    {
     "data": {
      "text/plain": [
       "status_id         0\n",
       "status_type       0\n",
       "time_published    0\n",
       "num_comments      0\n",
       "num_shares        0\n",
       "num_likes         0\n",
       "num_loves         0\n",
       "num_wows          0\n",
       "num_hahas         0\n",
       "num_sads          0\n",
       "num_angrys        0\n",
       "dtype: int64"
      ]
     },
     "execution_count": 4,
     "metadata": {},
     "output_type": "execute_result"
    }
   ],
   "source": [
    "# Checking missing values \n",
    "facebook_df.isnull().sum(axis=0)"
   ]
  },
  {
   "cell_type": "code",
   "execution_count": 5,
   "id": "7ab9bb28",
   "metadata": {
    "scrolled": false
   },
   "outputs": [
    {
     "data": {
      "image/png": "[encoded data removed]",
      "text/plain": [
       "<Figure size 900x600 with 4 Axes>"
      ]
     },
     "metadata": {},
     "output_type": "display_data"
    }
   ],
   "source": [
    "# Adding the new engagement metrics\n",
    "\n",
    "# Total engagement\n",
    "facebook_df['total_engagements'] = facebook_df['num_comments'] + facebook_df['num_shares'] +\\\n",
    "                                   facebook_df['num_likes'] + facebook_df['num_loves'] + \\\n",
    "                                   facebook_df['num_wows'] + facebook_df['num_hahas'] + \\\n",
    "                                   facebook_df['num_sads'] + facebook_df['num_angrys']\n",
    "# Positive engagement\n",
    "facebook_df['total_positive_engagements'] = facebook_df['num_likes'] + facebook_df['num_loves'] +\\\n",
    "                                            facebook_df['num_wows'] + facebook_df['num_hahas']\n",
    "# Negative engagement\n",
    "facebook_df['total_negative_engagements'] = facebook_df['num_sads'] + facebook_df['num_angrys']\n",
    "\n",
    "# Calculating the mean per status type for total engagements, positive engagements, and negative engagements\n",
    "avg_engagement_total = facebook_df.groupby('status_type')['total_engagements'].mean()\n",
    "avg_engagement_positive_mean = facebook_df.groupby('status_type')['total_positive_engagements'].mean()\n",
    "avg_engagement_negative = facebook_df.groupby('status_type')['total_negative_engagements'].mean()\n",
    "\n",
    "# Calculate median per status_type for positive engagements since mean > median (positively skewed)\n",
    "median_positive_engagements = facebook_df.groupby('status_type')['total_positive_engagements'].median()\n",
    "\n",
    "# Plot the bar charts\n",
    "fig, axes = plt.subplots(2, 2, figsize=(9, 6))\n",
    "\n",
    "# Total Engagements (Mean)\n",
    "avg_engagement_total.plot(kind='bar', ax=axes[0, 0], color='lightblue')\n",
    "axes[0, 0].set_title('Average Total Engagements by Post Type')\n",
    "axes[0, 0].set_ylabel('Average Count')\n",
    "axes[0, 0].set_xlabel('Post Type')\n",
    "axes[0, 0].set_xticklabels(axes[0, 0].get_xticklabels(), rotation=0)\n",
    "\n",
    "# Total Positive Engagements (Mean)\n",
    "avg_engagement_positive_mean.plot(kind='bar', ax=axes[0, 1], color='lightgreen')\n",
    "axes[0, 1].set_title('Average Total Positive Engagements by Post Type')\n",
    "axes[0, 1].set_ylabel('Average Count')\n",
    "axes[0, 1].set_xlabel('Post Type')\n",
    "axes[0, 1].set_xticklabels(axes[0, 1].get_xticklabels(), rotation=0)\n",
    "\n",
    "# Total Negative Engagements (Mean)\n",
    "avg_engagement_negative.plot(kind='bar', ax=axes[1, 0], color='pink')\n",
    "axes[1, 0].set_title('Average Total Negative Engagements by Post Type')\n",
    "axes[1, 0].set_ylabel('Average Count')\n",
    "axes[1, 0].set_xlabel('Post Type')\n",
    "axes[1, 0].set_xticklabels(axes[1, 0].get_xticklabels(), rotation=0)\n",
    "\n",
    "# Total Positive Engagements (Median)\n",
    "median_positive_engagements.plot(kind='bar', ax=axes[1, 1], color='lightgreen')\n",
    "axes[1, 1].set_title('Median Total Positive Engagements by Post Type')\n",
    "axes[1, 1].set_ylabel('Median Count')\n",
    "axes[1, 1].set_xlabel('Post Type')\n",
    "axes[1, 1].set_xticklabels(axes[1, 1].get_xticklabels(), rotation=0)\n",
    "\n",
    "plt.tight_layout()\n",
    "plt.show()"
   ]
  },
  {
   "cell_type": "markdown",
   "id": "1da49336",
   "metadata": {},
   "source": [
    "<h4>Analysis of Engagement Metrics by Post Type</h4>\n",
    "\n",
    "The analysis of engagement metrics by post type shows that photo posts exhibit the least average engagement compared to video and text posts. Photos receive the lowest average engagement in terms of total engagements and total positive engagements, including likes, love, wow, and haha reactions. They also attract the least amount of engagement on specific reactions.\n",
    "\n",
    "<b>Total Engagement</b><br>\n",
    "The data indicates that video posts receive the highest average engagement compared to photo and text posts. This metric considers all reactions, including likes, comments, shares, as well as the love, haha, wow, sad, and angry reactions.\n",
    "\n",
    "<b>Total Positive Engagement</b><br>\n",
    "Video posts also exhibit the highest median count of positive engagements, including likes, love, wow, and haha reactions, compared to photo and text posts. Although text posts have a higher average count, the skewed distribution indicates that video posts generally perform better in this regard.\n",
    "\n",
    "<b>Total Negative Engagement</b><br>\n",
    "Despite video posts showing a higher average of negative engagements, the overall counts for all post types remain relatively low compared to positive engagements.\n",
    "\n",
    "Video posts for live selling in Thailand appear to garner the most engagement, both in total and in terms of positive reactions. While they also attract more negative engagement on average, the overall negative engagement across all post types is low in comparison to positive engagement. This suggests that video content is particularly effective in engaging audiences in a positive manner, making it a valuable strategy for content creators, business owners, and marketers in Thailand.\n",
    "\n",
    "Further analysis could focus on understanding why videos perform better and explore ways to optimize photo content to increase engagement. This could include creating more compelling and engaging visual content with different types of images, subject, captions, and posting strategies to see what resonates most with the audience."
   ]
  },
  {
   "cell_type": "code",
   "execution_count": 6,
   "id": "4955ada7",
   "metadata": {},
   "outputs": [
    {
     "data": {
      "image/png": "[encoded data removed]",
      "text/plain": [
       "<Figure size 1500x500 with 3 Axes>"
      ]
     },
     "metadata": {},
     "output_type": "display_data"
    }
   ],
   "source": [
    "# Extracting the year from time_published column\n",
    "facebook_df['year'] = facebook_df['time_published'].dt.year\n",
    "\n",
    "# Select the relevant columns for plotting\n",
    "total_engagements = facebook_df[['year', 'status_type', 'total_engagements']]\n",
    "total_positive_engagements = facebook_df[['year', 'status_type', 'total_positive_engagements']]\n",
    "total_negative_engagements = facebook_df[['year', 'status_type', 'total_negative_engagements']]\n",
    "\n",
    "# Group the data by year and status type, and calculate the mean of each engagement metric\n",
    "total_engagements_yearly = total_engagements.groupby(['year', 'status_type']).median().reset_index()\n",
    "total_positive_engagements_yearly = total_positive_engagements.groupby(['year', 'status_type']).mean().reset_index()\n",
    "total_negative_engagements_yearly = total_negative_engagements.groupby(['year', 'status_type']).mean().reset_index()\n",
    "\n",
    "# Plot the line charts for each engagement type\n",
    "fig, axes = plt.subplots(1, 3, figsize=(15, 5))\n",
    "\n",
    "for ax, dataset, title in zip(axes,\n",
    "                              [total_engagements_yearly, total_positive_engagements_yearly, total_negative_engagements_yearly],\n",
    "                              ['Total Engagements', 'Total Positive Engagements', 'Total Negative Engagements']):\n",
    "    for status_type in dataset['status_type'].unique():\n",
    "        subset = dataset[dataset['status_type'] == status_type]\n",
    "        color = 'skyblue' if status_type == 'photo' else 'grey' if status_type == 'video' else 'pink'\n",
    "        ax.plot(subset['year'], subset[title.lower().replace(' ', '_')], label=status_type, marker='o', color=color)\n",
    "    ax.set_xlabel('Year')\n",
    "    ax.set_ylabel(f'Average {title}')\n",
    "    ax.set_title(f'Yearly {title} by Content Type')\n",
    "    ax.legend(title='Content Type')\n",
    "    ax.grid(False)\n",
    "\n",
    "plt.tight_layout()\n",
    "plt.show()"
   ]
  },
  {
   "cell_type": "markdown",
   "id": "f29b2867",
   "metadata": {},
   "source": [
    "The analysis of Facebook Live data in Thailand reveals interesting trends in engagement over the years. In 2020, there was a substantial 95% increase in total engagement across all content types compared to previous years. However, this surge was followed by a notable decline in engagement across all content types in subsequent years, except for videos, which experienced a resurgence in the following year.\n",
    "\n",
    "<b>Peak Engagement Years</b><br>\n",
    "The years 2020 and 2022 stood out as peak engagement years, particularly for video content. This suggests that there may have been specific events, campaigns, or content strategies during these periods that resonated particularly well with the audience.\n",
    "\n",
    "<b>Positive Engagement Dominance</b><br>\n",
    "Positive engagements, such as likes, loves, wows, and hahas, dominated overall interactions across all content types in year 2020. \n",
    "\n",
    "<b>Negative Engagement Patterns</b><br>\n",
    "While negative engagements, including angry and sad reactions, were relatively lower in count compared to positive engagements, there were noticeable increases in certain years and content types. \n",
    "\n",
    "<b>Insights for Deeper Analysis</b>\n",
    "- Explore why video content maintained high engagement levels, especially in 2020 and 2022. Is there a particular type of video or content strategy that resonates well with the audience?<br>\n",
    "- Investigate the reasons behind the decrease in total engagements for all content types after 2020. Was there a change in audience behavior or content quality?<br>\n",
    "- Look into the factors contributing to the increase in negative engagements on photo in 2021 and text in 2022. Are there specific topics or issues that trigger negative reactions from the audience?"
   ]
  },
  {
   "cell_type": "code",
   "execution_count": 7,
   "id": "cc185d2b",
   "metadata": {
    "scrolled": true
   },
   "outputs": [
    {
     "data": {
      "text/html": [
       "<div>\n",
       "<style scoped>\n",
       "    .dataframe tbody tr th:only-of-type {\n",
       "        vertical-align: middle;\n",
       "    }\n",
       "\n",
       "    .dataframe tbody tr th {\n",
       "        vertical-align: top;\n",
       "    }\n",
       "\n",
       "    .dataframe thead th {\n",
       "        text-align: right;\n",
       "    }\n",
       "</style>\n",
       "<table border=\"1\" class=\"dataframe\">\n",
       "  <thead>\n",
       "    <tr style=\"text-align: right;\">\n",
       "      <th></th>\n",
       "      <th>num_comments</th>\n",
       "      <th>num_shares</th>\n",
       "      <th>num_likes</th>\n",
       "      <th>num_loves</th>\n",
       "      <th>num_wows</th>\n",
       "      <th>num_hahas</th>\n",
       "      <th>num_sads</th>\n",
       "      <th>num_angrys</th>\n",
       "      <th>total_reactions</th>\n",
       "    </tr>\n",
       "    <tr>\n",
       "      <th>status_type</th>\n",
       "      <th></th>\n",
       "      <th></th>\n",
       "      <th></th>\n",
       "      <th></th>\n",
       "      <th></th>\n",
       "      <th></th>\n",
       "      <th></th>\n",
       "      <th></th>\n",
       "      <th></th>\n",
       "    </tr>\n",
       "  </thead>\n",
       "  <tbody>\n",
       "    <tr>\n",
       "      <th>video</th>\n",
       "      <td>514376</td>\n",
       "      <td>89158</td>\n",
       "      <td>196253</td>\n",
       "      <td>28100</td>\n",
       "      <td>1912</td>\n",
       "      <td>1560</td>\n",
       "      <td>336</td>\n",
       "      <td>210</td>\n",
       "      <td>831905</td>\n",
       "    </tr>\n",
       "    <tr>\n",
       "      <th>photo</th>\n",
       "      <td>31796</td>\n",
       "      <td>4385</td>\n",
       "      <td>253180</td>\n",
       "      <td>2009</td>\n",
       "      <td>983</td>\n",
       "      <td>168</td>\n",
       "      <td>239</td>\n",
       "      <td>78</td>\n",
       "      <td>292838</td>\n",
       "    </tr>\n",
       "    <tr>\n",
       "      <th>text</th>\n",
       "      <td>5898</td>\n",
       "      <td>517</td>\n",
       "      <td>72918</td>\n",
       "      <td>189</td>\n",
       "      <td>134</td>\n",
       "      <td>20</td>\n",
       "      <td>40</td>\n",
       "      <td>2</td>\n",
       "      <td>79718</td>\n",
       "    </tr>\n",
       "  </tbody>\n",
       "</table>\n",
       "</div>"
      ],
      "text/plain": [
       "             num_comments  num_shares  num_likes  num_loves  num_wows  num_hahas  num_sads  num_angrys  total_reactions\n",
       "status_type                                                                                                            \n",
       "video              514376       89158     196253      28100      1912       1560       336         210           831905\n",
       "photo               31796        4385     253180       2009       983        168       239          78           292838\n",
       "text                 5898         517      72918        189       134         20        40           2            79718"
      ]
     },
     "execution_count": 7,
     "metadata": {},
     "output_type": "execute_result"
    }
   ],
   "source": [
    "# Grouping the data by 'status_type' and calculate the sum of reactions for each group\n",
    "total_reactions_by_type = facebook_df.groupby('status_type')[ ['num_comments', 'num_shares', 'num_likes', 'num_loves', 'num_wows', 'num_hahas', 'num_sads', 'num_angrys'] ].sum()\n",
    "\n",
    "# Adding a column for the total reactions\n",
    "total_reactions_by_type['total_reactions'] = total_reactions_by_type.sum(axis=1)\n",
    "\n",
    "# Sorting the table by the highest total reactions\n",
    "total_reactions_by_type = total_reactions_by_type.sort_values(by='total_reactions', ascending = False)\n",
    "\n",
    "# Display the results\n",
    "total_reactions_by_type"
   ]
  },
  {
   "cell_type": "markdown",
   "id": "8cd480d9",
   "metadata": {},
   "source": [
    "<h4> Analysis of Content Type by reactions</h4>\n",
    "\n",
    "<b>Total Engagement</b> <br>\n",
    "Based on the table below, <b>videos perform exceptionally well in terms of total engagement</b> compared to other forms of content, such as photos and text posts. Videos have the highest total engagement with a total of 831,905 reactions. Photos follow behind with a total of 292,838 reactions, while text posts have the lowest total engagement with 79,718 reactions.\n",
    "\n",
    "<b>Engagement in Specific Reactions</b><br>\n",
    "When looking at specific reactions, videos also tend to lead in almost all of the categories indicating higher levels of interaction and engagement among users except likes. However, <b> photos have the highest number of likes</b> compared to other forms of content, with 253,180 likes possibly indicating that they may perform better in terms of likeability. On the other hand, text posts have the lowest engagement across all specific reactions.<br>\n",
    "\n",
    "This initial analysis suggests that incorporating more visual content, particularly photos and videos, could lead to higher engagement and interaction with the audience."
   ]
  },
  {
   "cell_type": "code",
   "execution_count": 8,
   "id": "12368e52",
   "metadata": {},
   "outputs": [
    {
     "data": {
      "text/html": [
       "<div>\n",
       "<style scoped>\n",
       "    .dataframe tbody tr th:only-of-type {\n",
       "        vertical-align: middle;\n",
       "    }\n",
       "\n",
       "    .dataframe tbody tr th {\n",
       "        vertical-align: top;\n",
       "    }\n",
       "\n",
       "    .dataframe thead th {\n",
       "        text-align: right;\n",
       "    }\n",
       "</style>\n",
       "<table border=\"1\" class=\"dataframe\">\n",
       "  <thead>\n",
       "    <tr style=\"text-align: right;\">\n",
       "      <th></th>\n",
       "      <th>status_id</th>\n",
       "      <th>status_type</th>\n",
       "      <th>time_published</th>\n",
       "      <th>num_comments</th>\n",
       "      <th>num_shares</th>\n",
       "      <th>num_likes</th>\n",
       "      <th>num_loves</th>\n",
       "      <th>num_wows</th>\n",
       "      <th>num_hahas</th>\n",
       "      <th>num_sads</th>\n",
       "      <th>num_angrys</th>\n",
       "      <th>total_engagements</th>\n",
       "      <th>total_positive_engagements</th>\n",
       "      <th>total_negative_engagements</th>\n",
       "      <th>year</th>\n",
       "      <th>photo</th>\n",
       "    </tr>\n",
       "  </thead>\n",
       "  <tbody>\n",
       "    <tr>\n",
       "      <th>0</th>\n",
       "      <td>1</td>\n",
       "      <td>photo</td>\n",
       "      <td>2023-07-04 22:45:00</td>\n",
       "      <td>0</td>\n",
       "      <td>0</td>\n",
       "      <td>150</td>\n",
       "      <td>0</td>\n",
       "      <td>0</td>\n",
       "      <td>0</td>\n",
       "      <td>0</td>\n",
       "      <td>0</td>\n",
       "      <td>150</td>\n",
       "      <td>150</td>\n",
       "      <td>0</td>\n",
       "      <td>2023</td>\n",
       "      <td>1</td>\n",
       "    </tr>\n",
       "    <tr>\n",
       "      <th>1</th>\n",
       "      <td>2</td>\n",
       "      <td>photo</td>\n",
       "      <td>2023-06-23 01:01:00</td>\n",
       "      <td>2</td>\n",
       "      <td>3</td>\n",
       "      <td>202</td>\n",
       "      <td>7</td>\n",
       "      <td>1</td>\n",
       "      <td>0</td>\n",
       "      <td>0</td>\n",
       "      <td>0</td>\n",
       "      <td>215</td>\n",
       "      <td>210</td>\n",
       "      <td>0</td>\n",
       "      <td>2023</td>\n",
       "      <td>1</td>\n",
       "    </tr>\n",
       "  </tbody>\n",
       "</table>\n",
       "</div>"
      ],
      "text/plain": [
       "   status_id status_type      time_published  num_comments  num_shares  num_likes  num_loves  num_wows  num_hahas  num_sads  num_angrys  total_engagements  total_positive_engagements  total_negative_engagements  year  photo\n",
       "0          1       photo 2023-07-04 22:45:00             0           0        150          0         0          0         0           0                150                         150                           0  2023      1\n",
       "1          2       photo 2023-06-23 01:01:00             2           3        202          7         1          0         0           0                215                         210                           0  2023      1"
      ]
     },
     "execution_count": 8,
     "metadata": {},
     "output_type": "execute_result"
    }
   ],
   "source": [
    "# Performing one-hot encoding for status_type\n",
    "status_type_encoded = pd.get_dummies(facebook_df['status_type']).astype(int)\n",
    "\n",
    "# Concatenating the encoded columns with the original dataframe\n",
    "facebook_df_encoded = pd.concat([facebook_df, status_type_encoded], axis = 1)\n",
    "\n",
    "# Assigning the encoded dataframe to the original variable name\n",
    "facebook_df = facebook_df_encoded.drop(['text', 'video'],\n",
    "                                         axis = 1)\n",
    "\n",
    "# Display the first two rows\n",
    "facebook_df.head(n=2)"
   ]
  },
  {
   "cell_type": "code",
   "execution_count": 9,
   "id": "2b7c3a3c",
   "metadata": {
    "scrolled": true
   },
   "outputs": [
    {
     "name": "stdout",
     "output_type": "stream",
     "text": [
      "num_comments    733040.526533\n",
      "num_shares       15315.110634\n",
      "num_likes       218288.813477\n",
      "num_loves         1680.086166\n",
      "num_wows            75.978259\n",
      "num_hahas           16.896863\n",
      "num_sads             3.392409\n",
      "num_angrys           0.817271\n",
      "dtype: float64 \n",
      "\n",
      "\n",
      "num_comments    1.0\n",
      "num_shares      1.0\n",
      "num_likes       1.0\n",
      "num_loves       1.0\n",
      "num_wows        1.0\n",
      "num_hahas       1.0\n",
      "num_sads        1.0\n",
      "num_angrys      1.0\n",
      "dtype: float64\n"
     ]
    },
    {
     "name": "stderr",
     "output_type": "stream",
     "text": [
      "C:\\Users\\joann\\anaconda3\\Lib\\site-packages\\numpy\\core\\fromnumeric.py:3745: FutureWarning: The behavior of DataFrame.var with axis=None is deprecated, in a future version this will reduce over both axes and return a scalar. To retain the old behavior, pass axis=0 (or do not pass axis)\n",
      "  return var(axis=axis, dtype=dtype, out=out, ddof=ddof, **kwargs)\n"
     ]
    }
   ],
   "source": [
    "# removing non-continuous column\n",
    "reaction_df = facebook_df.drop(['status_id', 'status_type' ,\n",
    "                                'time_published', \n",
    "                                'total_engagements',\n",
    "                                'total_positive_engagements', \n",
    "                                'total_negative_engagements',\n",
    "                                'year',\n",
    "                                'photo'], \n",
    "                                 axis = 1)\n",
    "\n",
    "# scaling (normalizing) variables before correlation analysis\n",
    "reaction_scaled = scaler(df = reaction_df)\n",
    "\n",
    "\n",
    "# checking pre- and post-scaling variance\n",
    "print(np.var(reaction_df), '\\n\\n')\n",
    "print(np.var(reaction_scaled))"
   ]
  },
  {
   "cell_type": "code",
   "execution_count": 10,
   "id": "18d95ea1",
   "metadata": {},
   "outputs": [
    {
     "name": "stdout",
     "output_type": "stream",
     "text": [
      "Original shape: (2362, 8)\n",
      "PCA shape     : (2362, 8)\n"
     ]
    }
   ],
   "source": [
    "# INSTANTIATING a PCA object with no limit to principal components\n",
    "pca = PCA(n_components = None,\n",
    "          random_state = 702)\n",
    "\n",
    "# FITTING and TRANSFORMING the scaled data\n",
    "reaction_pca = pca.fit_transform(reaction_scaled)\n",
    "\n",
    "# comparing dimensions of each DataFrame\n",
    "print(\"Original shape:\", reaction_scaled.shape)\n",
    "print(\"PCA shape     :\", reaction_pca.shape)"
   ]
  },
  {
   "cell_type": "code",
   "execution_count": 11,
   "id": "411ee930",
   "metadata": {},
   "outputs": [
    {
     "name": "stdout",
     "output_type": "stream",
     "text": [
      "PC 1: 0.409\n",
      "PC 2: 0.128\n",
      "PC 3: 0.115\n",
      "PC 4: 0.11\n",
      "PC 5: 0.1\n",
      "PC 6: 0.077\n",
      "PC 7: 0.045\n",
      "PC 8: 0.017\n"
     ]
    }
   ],
   "source": [
    "# component number counter\n",
    "component_number = 0\n",
    "\n",
    "# looping over each principal component\n",
    "for variance in pca.explained_variance_ratio_:\n",
    "    component_number += 1\n",
    "    \n",
    "    print(f\"PC {component_number}: {variance.round(decimals = 3)}\")"
   ]
  },
  {
   "cell_type": "markdown",
   "id": "57668289",
   "metadata": {},
   "source": [
    "<b> Choosing Principal Components </b><br>\n",
    "When analyzing Facebook Live data in Thailand, it's crucial to determine the optimal number of principal components to retain for meaningful insights. One method is to set a threshold of explained variance, typically around 80%, and choose the number of components that achieve a cumulative variance close to this threshold (Towards Data Science, 2022).\n",
    "\n",
    "The scree plot below illustrates the cumulative explained variance against the number of principal components. Despite an initial inclination to select 2 principal components due to an apparent elbow in the plot, it's essential to note that the cumulative variance ratio of these 2 components falls below 80%. After the fifth principal component, the amount of variance explained by each subsequent component diminishes significantly, as shown by the flattening of the curve. Consequently, retaining <b>5 principal components</b> seems more appropriate, as it yields a cumulative explained variance ratio of 0.862.\n",
    "\n",
    "Furthermore, the previous visualizations highlighted peak engagement in specific years for all post types, incorporating various reactions (comments, shares, likes, loves, wows, hahas, sads, and angrys). By considering these factors, we can provide more granular insights into which reactions are most effective for each post type and suggest improvements. This analysis can help content creators and sellers tailor their content to maximize engagement based on the impact of each reaction."
   ]
  },
  {
   "cell_type": "code",
   "execution_count": 12,
   "id": "c0385e43",
   "metadata": {
    "scrolled": false
   },
   "outputs": [
    {
     "data": {
      "image/png": "[encoded data removed]",
      "text/plain": [
       "<Figure size 1000x800 with 1 Axes>"
      ]
     },
     "metadata": {},
     "output_type": "display_data"
    }
   ],
   "source": [
    "# calling the scree_plot function\n",
    "scree_plot(pca_object = pca, retain_components = 4)"
   ]
  },
  {
   "cell_type": "markdown",
   "id": "c4c889a7",
   "metadata": {},
   "source": [
    "<h4> Using 5 Principal Components </h4>"
   ]
  },
  {
   "cell_type": "code",
   "execution_count": 13,
   "id": "dae2d723",
   "metadata": {},
   "outputs": [],
   "source": [
    "# INSTANTIATING a new model using the first five principal components\n",
    "pca_5 = PCA(n_components = 5,\n",
    "            random_state = 702)\n",
    "\n",
    "# FITTING and TRANSFORMING the reaction_scaled\n",
    "reaction_pca_5 = pca_5.fit_transform(X = reaction_scaled)"
   ]
  },
  {
   "cell_type": "markdown",
   "id": "07154b91",
   "metadata": {},
   "source": [
    "<h4> Factor Loadings </h4>"
   ]
  },
  {
   "cell_type": "code",
   "execution_count": 14,
   "id": "c339ac9d",
   "metadata": {},
   "outputs": [
    {
     "name": "stdout",
     "output_type": "stream",
     "text": [
      "\n",
      "MAX Components Factor Loadings\n",
      "------------------------------\n",
      "                 0     1     2     3     4     5     6     7\n",
      "num_comments  0.41 -0.31 -0.03 -0.20 -0.39 -0.18  0.67 -0.24\n",
      "num_shares    0.49 -0.12  0.05 -0.17 -0.21 -0.22 -0.33  0.71\n",
      "num_likes     0.16  0.73 -0.35  0.25 -0.49  0.11  0.05  0.00\n",
      "num_loves     0.50  0.00  0.06 -0.08  0.01 -0.06 -0.56 -0.65\n",
      "num_wows      0.30  0.48  0.08 -0.08  0.64 -0.42  0.29  0.04\n",
      "num_hahas     0.37  0.01 -0.05 -0.20  0.28  0.84  0.14  0.12\n",
      "num_sads      0.20 -0.35 -0.68  0.54  0.27 -0.09 -0.01  0.03\n",
      "num_angrys    0.22 -0.04  0.63  0.72 -0.04  0.11  0.11  0.04\n",
      "\n",
      "\n",
      "5 Components Factor Loadings\n",
      "------------------------------\n",
      "                 0     1     2     3     4\n",
      "num_comments  0.41 -0.31 -0.03 -0.20 -0.39\n",
      "num_shares    0.49 -0.12  0.05 -0.17 -0.21\n",
      "num_likes     0.16  0.73 -0.35  0.25 -0.49\n",
      "num_loves     0.50  0.00  0.06 -0.08  0.01\n",
      "num_wows      0.30  0.48  0.08 -0.08  0.64\n",
      "num_hahas     0.37  0.01 -0.05 -0.20  0.28\n",
      "num_sads      0.20 -0.35 -0.68  0.54  0.27\n",
      "num_angrys    0.22 -0.04  0.63  0.72 -0.04\n",
      "\n"
     ]
    }
   ],
   "source": [
    "####################\n",
    "### Max PC Model ###\n",
    "####################\n",
    "# transposing pca components (pc = MAX)\n",
    "factor_loadings = pd.DataFrame(np.transpose(pca.components_))\n",
    "\n",
    "\n",
    "# naming rows as original features\n",
    "factor_loadings = factor_loadings.set_index(reaction_scaled.columns)\n",
    "\n",
    "\n",
    "##################\n",
    "### 5 PC Model ###\n",
    "##################\n",
    "# transposing pca components (pc = 5)\n",
    "factor_loadings_5 = pd.DataFrame(np.transpose(pca_5.components_))\n",
    "\n",
    "\n",
    "# naming rows as original features\n",
    "factor_loadings_5 = factor_loadings_5.set_index(reaction_scaled.columns)\n",
    "\n",
    "# checking the results\n",
    "print(f\"\"\"\n",
    "MAX Components Factor Loadings\n",
    "------------------------------\n",
    "{factor_loadings.round(decimals = 2)}\n",
    "\n",
    "\n",
    "5 Components Factor Loadings\n",
    "------------------------------\n",
    "{factor_loadings_5.round(decimals = 2)}\n",
    "\"\"\")\n",
    "\n",
    "# saving to Excel\n",
    "factor_loadings_5.to_excel(excel_writer = 'reaction_factor_loadings_5.xlsx',\n",
    "                            index        = False)"
   ]
  },
  {
   "cell_type": "markdown",
   "id": "d2723708",
   "metadata": {},
   "source": [
    "<h4> Factor Loadings Interpretation </h4><br>\n",
    "<b>Principal Component 1: Interactive & Entertaining</b><br>\n",
    "Positive side:<br>\n",
    "With strong positive loadings from loves, shares, and hahas, this component likely reflects the interactive, fun, and engaging nature of the content. It measures the overall interaction a post receives. The high loading in the love reaction suggests a strong emotional connection with the audience and a customer-seller relationship was already established, as noted in research by A. Wongkitrungrueng et al. (2019). This indicates stronger feelings and bonding between sellers and viewers, confirming the importance of vividness and interactivity in generating online engagement on Facebook (Luarn et al., 2015). Using the love reaction also signifies that the audience genuinely care about the content and want to show support (Medium, 2023). \n",
    "\n",
    "The high number of shares signifies a collaborative relationship between customers and sellers, with customers encouraged to invite others via the share button, thus building larger audiences. Additionally, high loadings in comments suggest real-time social interaction, enabling sellers to engage with multiple customers simultaneously through written communication. This component highlights that emoticon reactions and comments serve as feedback about products, streaming time, or audio/video quality. This is intriguing as cooperation can exist prior to the purchase and loyalty stages (A. Wongkitrungrueng et al., 2019). Using haha reaction as well means to express amusement, humor, or laughter when you found content funny which creates positive atmosphere.\n",
    "\n",
    "Negative side:<br>\n",
    "On the negative side, lower engagement metrics like loves, shares, and hahas indicate content that is ineffective. This suggests a lack of customer-seller relationship or a purely transactional approach, rather than a content-based or relationship-focused strategy. Transaction-based approaches typically focus solely on product details, with minimal discussion on broader topics such as brand values or customer experiences (A. Wongkitrungrueng et al., 2019).\n",
    "\n",
    "<b> Principal Component 2: Interesting </b><br>\n",
    "Positive side: <br>\n",
    "This component exhibits high loadings on likes and moderate loadings on wow reactions. It seems to represent content that is interesting and appealing, but with only one-way interaction. A high loading on likes, which are typically the initial reaction or go-to reaction before emoticon reactions, indicates that customers find value in high-quality content that resonates with them. After the introduction of other reactions, sometimes they may express their interest through a wow reaction. Using wow reaction also shows that you are acknowledging the impact of the post and expressing your admiration. Today, like can signify various things depending on the context. It can indicate agreement, support, appreciation, or simply acknowledging that you have seen the post. It is a versatile tool that allows users to engage with content in a quick and straightforward manner (Medium, 2023). They are also the default way to follow businesses and brands on Facebook. This can make the post appear more popular, potentially encouraging others to click on it.\n",
    "\n",
    "Negative side: <br>\n",
    "While likes can lead to further engagement such as comments, this is not guaranteed, and sometimes clicking like may seem inappropriate depending on the post content. On the negative side, this indicates that the content may not be highly effective, possibly due to low-quality material that fails to resonate with the audience. It suggests that the seller may be inactive or not engaging with customers, or that the content is inconsistent, bland, repetitive, and lacks relevance.\n",
    "\n",
    "<b> Principal Component 3: Emotional </b><br>\n",
    "Positive side: <br>\n",
    "A strong positive correlation with sad reactions, followed by angry reactions, suggests a potentially negative response to the content or the seller. It is a way to offer virtual comfort and let them know that you are there for them (Medium, 2023). Posts that share heartwarming stories or evoke strong emotions are likely to receive high scores on this component. For example, content that seeks empathy by recounting unfortunate experiences could fall into this category. Additionally, poor internet connection or low audio/video quality could also contribute to these reactions. Negative feedback, such as sadness or anger, may stem from unsatisfactory service or values that conflict with the audience's beliefs. In Thailand, it is common for sellers with disabilities, sellers who appear impoverished, or sellers with disabled children to receive sad reactions, indicating sympathy from the audience. Other factors, such as gender, age, social status, location, mobility, or the timing of the interaction, can also influence the dynamics of customer-seller interactions. Interestingly, younger social media users, tend to click on the sad reaction in a sarcastic way or if they want to troll the business.\n",
    "\n",
    "Negative side: <br>\n",
    "Individuals who refrain from clicking the sad reaction on Facebook indicate a preference against seeing sad content in their feed, given how the Facebook newsfeed algorithm functions. This suggests that the algorithm prioritizes content based on user preferences. In situations where more serious concerns are involved, such as those requiring care, opting for reactions other than sad may be more appropriate (Nick Leighton). Additionally, some users may simply prefer to remain neutral or indifferent.\n",
    "\n",
    "\n",
    "\n",
    "<b> Principal Component 4: Negative </b><br>\n",
    "Positive side: <br>\n",
    "With a significant emphasis on the angry reaction, it signifies disapproval in reaction to a post or comment that might be contentious or offensive. This reaction is commonly used when individuals wish to express strong disagreement or dissatisfaction. Users typically employ it to respond to negative feedback and controversial posts. Utilizing the angry reaction suggests that the content has elicited a strong negative response from the audience. Similarly, if someone has shared a contentious opinion or promoted hatred, the audience can convey their displeasure through the angry reaction.\n",
    "\n",
    "Negative side: <br>\n",
    "On the other side, individuals who refrain from using the angry reaction feature perceive it as impolite or trivial when directed at others. They reserve this reaction for instances where the content is highly objectionable or directly challenges their values. Their primary focus is to maintain peaceful interactions and positive relationships with others by avoid debating with people who might disagree or to avoid offending people who hold different views (Warfare Plugins, n.d). This decision is largely influenced by their personal tolerance levels, comfort, and the dynamics of their relationships.\n",
    "\n",
    "\n",
    "<b> Principal Component 5: Surprising </b><br>\n",
    "Positive side: <br>\n",
    "Given its strong association with wows, this aspect of the analysis likely reflects content that is particularly surprising or unexpected. When users choose the wow reaction, they are indicating that the content has captured their attention and left them impressed or amazed. This reaction signifies their acknowledgment of the post's impact and their expression of admiration. However, it's important to note that this reaction could also suggest that the content has shocked or surprised the audience, unless it's being used sarcastically. In such cases, it can still be seen as a positive endorsement (Digital Communications, 2016). \n",
    "\n",
    "Negative side: <br>\n",
    "Choosing not to react with surprise or use the wow reaction suggests that the content lacks a strong impact to create surprise or shock among the audience. The content may be perceived and interpreted differently than intended, potentially leading to unmet expectations and being seen as ordinary, blending in with other ordinary content.\n"
   ]
  },
  {
   "cell_type": "code",
   "execution_count": 15,
   "id": "5cff6d18",
   "metadata": {
    "scrolled": true
   },
   "outputs": [
    {
     "data": {
      "text/html": [
       "<div>\n",
       "<style scoped>\n",
       "    .dataframe tbody tr th:only-of-type {\n",
       "        vertical-align: middle;\n",
       "    }\n",
       "\n",
       "    .dataframe tbody tr th {\n",
       "        vertical-align: top;\n",
       "    }\n",
       "\n",
       "    .dataframe thead th {\n",
       "        text-align: right;\n",
       "    }\n",
       "</style>\n",
       "<table border=\"1\" class=\"dataframe\">\n",
       "  <thead>\n",
       "    <tr style=\"text-align: right;\">\n",
       "      <th></th>\n",
       "      <th>Interactive &amp; Entertaining</th>\n",
       "      <th>Interesting</th>\n",
       "      <th>Emotional</th>\n",
       "      <th>Negative</th>\n",
       "      <th>Surprising</th>\n",
       "    </tr>\n",
       "  </thead>\n",
       "  <tbody>\n",
       "    <tr>\n",
       "      <th>num_comments</th>\n",
       "      <td>0.41</td>\n",
       "      <td>-0.31</td>\n",
       "      <td>-0.03</td>\n",
       "      <td>-0.20</td>\n",
       "      <td>-0.39</td>\n",
       "    </tr>\n",
       "    <tr>\n",
       "      <th>num_shares</th>\n",
       "      <td>0.49</td>\n",
       "      <td>-0.12</td>\n",
       "      <td>0.05</td>\n",
       "      <td>-0.17</td>\n",
       "      <td>-0.21</td>\n",
       "    </tr>\n",
       "    <tr>\n",
       "      <th>num_likes</th>\n",
       "      <td>0.16</td>\n",
       "      <td>0.73</td>\n",
       "      <td>-0.35</td>\n",
       "      <td>0.25</td>\n",
       "      <td>-0.49</td>\n",
       "    </tr>\n",
       "    <tr>\n",
       "      <th>num_loves</th>\n",
       "      <td>0.50</td>\n",
       "      <td>0.00</td>\n",
       "      <td>0.06</td>\n",
       "      <td>-0.08</td>\n",
       "      <td>0.01</td>\n",
       "    </tr>\n",
       "    <tr>\n",
       "      <th>num_wows</th>\n",
       "      <td>0.30</td>\n",
       "      <td>0.48</td>\n",
       "      <td>0.08</td>\n",
       "      <td>-0.08</td>\n",
       "      <td>0.64</td>\n",
       "    </tr>\n",
       "  </tbody>\n",
       "</table>\n",
       "</div>"
      ],
      "text/plain": [
       "              Interactive & Entertaining  Interesting  Emotional  Negative  Surprising\n",
       "num_comments                        0.41        -0.31      -0.03     -0.20       -0.39\n",
       "num_shares                          0.49        -0.12       0.05     -0.17       -0.21\n",
       "num_likes                           0.16         0.73      -0.35      0.25       -0.49\n",
       "num_loves                           0.50         0.00       0.06     -0.08        0.01\n",
       "num_wows                            0.30         0.48       0.08     -0.08        0.64"
      ]
     },
     "execution_count": 15,
     "metadata": {},
     "output_type": "execute_result"
    }
   ],
   "source": [
    "# naming each principal component\n",
    "factor_loadings_5.columns = ['Interactive & Entertaining', # Engaging & Entertaining (+ Side), Transactional (- side)\n",
    "                             'Interesting',                # Appealing  (+ Side) , Low quality (- side)\n",
    "                             'Emotional',                  # Empathy (+ side), Indifferent (- side) \n",
    "                             'Negative',                   # Offensive/Disagreement (+ side), Trivial (- side)\n",
    "                             'Surprising']                 # Unexpected (+ side),  Normal/Plain (- side)\n",
    "\n",
    "# checking the result\n",
    "factor_loadings_5.round(decimals = 2).head(n=5)"
   ]
  },
  {
   "cell_type": "code",
   "execution_count": 16,
   "id": "068bc450",
   "metadata": {},
   "outputs": [
    {
     "data": {
      "text/html": [
       "<div>\n",
       "<style scoped>\n",
       "    .dataframe tbody tr th:only-of-type {\n",
       "        vertical-align: middle;\n",
       "    }\n",
       "\n",
       "    .dataframe tbody tr th {\n",
       "        vertical-align: top;\n",
       "    }\n",
       "\n",
       "    .dataframe thead th {\n",
       "        text-align: right;\n",
       "    }\n",
       "</style>\n",
       "<table border=\"1\" class=\"dataframe\">\n",
       "  <thead>\n",
       "    <tr style=\"text-align: right;\">\n",
       "      <th></th>\n",
       "      <th>Interactive &amp; Entertaining</th>\n",
       "      <th>Interesting</th>\n",
       "      <th>Emotional</th>\n",
       "      <th>Negative</th>\n",
       "      <th>Surprising</th>\n",
       "    </tr>\n",
       "  </thead>\n",
       "  <tbody>\n",
       "    <tr>\n",
       "      <th>0</th>\n",
       "      <td>-0.62</td>\n",
       "      <td>-0.01</td>\n",
       "      <td>0.03</td>\n",
       "      <td>-0.03</td>\n",
       "      <td>0.07</td>\n",
       "    </tr>\n",
       "    <tr>\n",
       "      <th>1</th>\n",
       "      <td>-0.47</td>\n",
       "      <td>0.13</td>\n",
       "      <td>0.01</td>\n",
       "      <td>-0.03</td>\n",
       "      <td>0.08</td>\n",
       "    </tr>\n",
       "    <tr>\n",
       "      <th>2</th>\n",
       "      <td>-0.47</td>\n",
       "      <td>0.13</td>\n",
       "      <td>0.02</td>\n",
       "      <td>-0.03</td>\n",
       "      <td>0.09</td>\n",
       "    </tr>\n",
       "    <tr>\n",
       "      <th>3</th>\n",
       "      <td>0.37</td>\n",
       "      <td>0.24</td>\n",
       "      <td>-0.09</td>\n",
       "      <td>-0.31</td>\n",
       "      <td>0.23</td>\n",
       "    </tr>\n",
       "    <tr>\n",
       "      <th>4</th>\n",
       "      <td>-0.02</td>\n",
       "      <td>-0.28</td>\n",
       "      <td>-0.28</td>\n",
       "      <td>0.11</td>\n",
       "      <td>0.15</td>\n",
       "    </tr>\n",
       "  </tbody>\n",
       "</table>\n",
       "</div>"
      ],
      "text/plain": [
       "   Interactive & Entertaining  Interesting  Emotional  Negative  Surprising\n",
       "0                       -0.62        -0.01       0.03     -0.03        0.07\n",
       "1                       -0.47         0.13       0.01     -0.03        0.08\n",
       "2                       -0.47         0.13       0.02     -0.03        0.09\n",
       "3                        0.37         0.24      -0.09     -0.31        0.23\n",
       "4                       -0.02        -0.28      -0.28      0.11        0.15"
      ]
     },
     "execution_count": 16,
     "metadata": {},
     "output_type": "execute_result"
    }
   ],
   "source": [
    "# analyzing factor strengths per status type\n",
    "factor_loadings = pca_5.transform(reaction_scaled)\n",
    "\n",
    "\n",
    "# converting to a DataFrame\n",
    "factor_loadings_df = pd.DataFrame(factor_loadings)\n",
    "\n",
    "\n",
    "# renaming columns\n",
    "factor_loadings_df.columns = factor_loadings_5.columns\n",
    "\n",
    "\n",
    "# checking the results\n",
    "factor_loadings_df.round(decimals = 2).head(n = 5)"
   ]
  },
  {
   "cell_type": "markdown",
   "id": "9c508dd6",
   "metadata": {},
   "source": [
    "<h4> KMeans Clustering </h4>"
   ]
  },
  {
   "cell_type": "code",
   "execution_count": 17,
   "id": "31c08d9a",
   "metadata": {},
   "outputs": [
    {
     "name": "stderr",
     "output_type": "stream",
     "text": [
      "C:\\Users\\joann\\anaconda3\\Lib\\site-packages\\numpy\\core\\fromnumeric.py:3745: FutureWarning: The behavior of DataFrame.var with axis=None is deprecated, in a future version this will reduce over both axes and return a scalar. To retain the old behavior, pass axis=0 (or do not pass axis)\n",
      "  return var(axis=axis, dtype=dtype, out=out, ddof=ddof, **kwargs)\n"
     ]
    },
    {
     "data": {
      "text/plain": [
       "Interactive & Entertaining    3.273609\n",
       "Interesting                   1.025052\n",
       "Emotional                     0.916344\n",
       "Negative                      0.876567\n",
       "Surprising                    0.803501\n",
       "dtype: float64"
      ]
     },
     "execution_count": 17,
     "metadata": {},
     "output_type": "execute_result"
    }
   ],
   "source": [
    "# checking variance amongst clusters\n",
    "np.var(factor_loadings_df)"
   ]
  },
  {
   "cell_type": "code",
   "execution_count": 18,
   "id": "48fa3943",
   "metadata": {
    "scrolled": true
   },
   "outputs": [
    {
     "name": "stdout",
     "output_type": "stream",
     "text": [
      "Interactive & Entertaining    3.273609\n",
      "Interesting                   1.025052\n",
      "Emotional                     0.916344\n",
      "Negative                      0.876567\n",
      "Surprising                    0.803501\n",
      "dtype: float64 \n",
      "\n",
      "\n",
      "Interactive & Entertaining    1.0\n",
      "Interesting                   1.0\n",
      "Emotional                     1.0\n",
      "Negative                      1.0\n",
      "Surprising                    1.0\n",
      "dtype: float64\n"
     ]
    },
    {
     "name": "stderr",
     "output_type": "stream",
     "text": [
      "C:\\Users\\joann\\anaconda3\\Lib\\site-packages\\numpy\\core\\fromnumeric.py:3745: FutureWarning: The behavior of DataFrame.var with axis=None is deprecated, in a future version this will reduce over both axes and return a scalar. To retain the old behavior, pass axis=0 (or do not pass axis)\n",
      "  return var(axis=axis, dtype=dtype, out=out, ddof=ddof, **kwargs)\n"
     ]
    }
   ],
   "source": [
    "# applying the unsupervised_scaler function\n",
    "pca_rescaled = scaler(df = factor_loadings_df)\n",
    "\n",
    "\n",
    "# checking pre- and post-scaling variance\n",
    "print(np.var(factor_loadings_df), '\\n\\n')\n",
    "print(np.var(pca_rescaled))"
   ]
  },
  {
   "cell_type": "markdown",
   "id": "3a0ee864",
   "metadata": {},
   "source": [
    "<h4> Agglomerative Clustering </h4><br>\n",
    "Note: Put as a comment as it runs more than 60 seconds"
   ]
  },
  {
   "cell_type": "code",
   "execution_count": 19,
   "id": "20a4da19",
   "metadata": {},
   "outputs": [
    {
     "data": {
      "image/png": "[encoded data removed]",
      "text/plain": [
       "<Figure size 1200x1200 with 1 Axes>"
      ]
     },
     "metadata": {},
     "output_type": "display_data"
    }
   ],
   "source": [
    "# # grouping data based on Ward distance\n",
    "# standard_mergings_ward = linkage(y      = pca_rescaled,\n",
    "#                                  method = 'ward',\n",
    "#                                  metric = 'euclidean',\n",
    "#                                  optimal_ordering = True)\n",
    "\n",
    "\n",
    "# # setting plot size\n",
    "# fig, ax = plt.subplots(figsize=(12, 12))\n",
    "\n",
    "# # developing a dendrogram\n",
    "# dendrogram(Z = standard_mergings_ward,\n",
    "#            leaf_rotation  = 90       ,\n",
    "#            leaf_font_size = 6        )\n",
    "\n",
    "# # rendering the plot\n",
    "# plt.show()"
   ]
  },
  {
   "cell_type": "markdown",
   "id": "f390cc75",
   "metadata": {},
   "source": [
    "In this analysis, the combination of Ward linkage and Euclidean distance is ideal for creating clusters. This is because the Ward method minimizes errors when linking points, and Euclidean distance is effective in lower-dimensional spaces, which is the case here with 2362 observations and five features post-rescaling and PCA.\n",
    "\n",
    "The Ward method is adept at merging smaller clusters without significantly increasing in-cluster variance, making it suitable for the analysis. Utilizing Euclidean distance as the distance metric for clustering allows to quantify the dissimilarity between data points, thereby influencing the hierarchical structure of clusters(IBM, 2024).\n",
    "\n",
    "In the dendrogram visualization, the optimal number of clusters can be identified by placing a horizontal line within the blue clusters without intersecting any horizontal lines representing clusters. By locating the maximum distance and counting the number of times the horizontal line crosses vertical lines, we can determine the most suitable number of clusters. In this analysis, the horizontal line intersects vertical lines five times, indicating that <b>five clusters</b> may best represent distinct groups within the data."
   ]
  },
  {
   "cell_type": "code",
   "execution_count": 20,
   "id": "e6cd9fd9",
   "metadata": {},
   "outputs": [
    {
     "name": "stdout",
     "output_type": "stream",
     "text": [
      "Cluster\n",
      "1    2092\n",
      "0     139\n",
      "3     126\n",
      "4       3\n",
      "2       2\n",
      "Name: count, dtype: int64\n"
     ]
    }
   ],
   "source": [
    "# INSTANTIATING a k-Means object with clusters\n",
    "reaction_k_pca = KMeans(n_clusters    = 5  ,\n",
    "                         n_init       = 'auto',\n",
    "                         random_state = 702   )\n",
    "\n",
    "# fitting the object to the data\n",
    "reaction_k_pca.fit(pca_rescaled)\n",
    "\n",
    "# converting the clusters to a DataFrame\n",
    "reaction_kmeans_pca = pd.DataFrame({'Cluster': reaction_k_pca.labels_})\n",
    "\n",
    "# checking the results\n",
    "print(reaction_kmeans_pca.iloc[: , 0].value_counts())"
   ]
  },
  {
   "cell_type": "code",
   "execution_count": 21,
   "id": "e9f74491",
   "metadata": {},
   "outputs": [
    {
     "data": {
      "text/html": [
       "<div>\n",
       "<style scoped>\n",
       "    .dataframe tbody tr th:only-of-type {\n",
       "        vertical-align: middle;\n",
       "    }\n",
       "\n",
       "    .dataframe tbody tr th {\n",
       "        vertical-align: top;\n",
       "    }\n",
       "\n",
       "    .dataframe thead th {\n",
       "        text-align: right;\n",
       "    }\n",
       "</style>\n",
       "<table border=\"1\" class=\"dataframe\">\n",
       "  <thead>\n",
       "    <tr style=\"text-align: right;\">\n",
       "      <th></th>\n",
       "      <th>Interactive &amp; Entertaining</th>\n",
       "      <th>Interesting</th>\n",
       "      <th>Emotional</th>\n",
       "      <th>Negative</th>\n",
       "      <th>Surprising</th>\n",
       "    </tr>\n",
       "  </thead>\n",
       "  <tbody>\n",
       "    <tr>\n",
       "      <th>0</th>\n",
       "      <td>0.07</td>\n",
       "      <td>2.60</td>\n",
       "      <td>-1.22</td>\n",
       "      <td>0.83</td>\n",
       "      <td>-1.73</td>\n",
       "    </tr>\n",
       "    <tr>\n",
       "      <th>1</th>\n",
       "      <td>-0.21</td>\n",
       "      <td>-0.11</td>\n",
       "      <td>0.07</td>\n",
       "      <td>-0.06</td>\n",
       "      <td>0.17</td>\n",
       "    </tr>\n",
       "    <tr>\n",
       "      <th>2</th>\n",
       "      <td>3.26</td>\n",
       "      <td>-0.99</td>\n",
       "      <td>18.06</td>\n",
       "      <td>21.39</td>\n",
       "      <td>-0.73</td>\n",
       "    </tr>\n",
       "    <tr>\n",
       "      <th>3</th>\n",
       "      <td>3.27</td>\n",
       "      <td>-0.78</td>\n",
       "      <td>0.22</td>\n",
       "      <td>-0.62</td>\n",
       "      <td>-1.02</td>\n",
       "    </tr>\n",
       "    <tr>\n",
       "      <th>4</th>\n",
       "      <td>4.68</td>\n",
       "      <td>-7.00</td>\n",
       "      <td>-15.87</td>\n",
       "      <td>13.33</td>\n",
       "      <td>7.27</td>\n",
       "    </tr>\n",
       "  </tbody>\n",
       "</table>\n",
       "</div>"
      ],
      "text/plain": [
       "   Interactive & Entertaining  Interesting  Emotional  Negative  Surprising\n",
       "0                        0.07         2.60      -1.22      0.83       -1.73\n",
       "1                       -0.21        -0.11       0.07     -0.06        0.17\n",
       "2                        3.26        -0.99      18.06     21.39       -0.73\n",
       "3                        3.27        -0.78       0.22     -0.62       -1.02\n",
       "4                        4.68        -7.00     -15.87     13.33        7.27"
      ]
     },
     "execution_count": 21,
     "metadata": {},
     "output_type": "execute_result"
    }
   ],
   "source": [
    "# storing cluster centers\n",
    "centroids_pca = reaction_k_pca.cluster_centers_\n",
    "\n",
    "# converting cluster centers into a DataFrame\n",
    "centroids_pca_df = pd.DataFrame(centroids_pca).round(decimals = 2)\n",
    "\n",
    "# renaming principal components\n",
    "centroids_pca_df.columns = ['Interactive & Entertaining', # Engaging & Entertaining (+ Side), Transactional (- side)  \n",
    "                             'Interesting',               # Appealing  (+ Side) , Low quality (- side)\n",
    "                             'Emotional',                 # Empathy (+ side), Indifferent (- side) \n",
    "                             'Negative',                  # Offensive/Disagreement (+ side), Trivial (- side)\n",
    "                             'Surprising'                 # Unexpected (+ side),  Normal/Plain (- side)\n",
    "                           ]\n",
    "\n",
    "# checking results (clusters = rows, pc = columns)\n",
    "centroids_pca_df"
   ]
  },
  {
   "cell_type": "markdown",
   "id": "84f80020",
   "metadata": {},
   "source": [
    "<b>Cluster Analysis</b>\n",
    "\n",
    "<b>1. Cluster 0 - Thought Provoking </b>\n",
    "\n",
    "In this cluster, posts focus primarily on being intriguing with a hint of negativity, yet they tend to lack significant engagement and interaction. However, they are not notably emotional or surprising. A typical post within this cluster might involve introducing a new product or highlighting improvements in its quality. While the post may pique interest with its intriguing description, it could also elicit some negative reactions if the product doesn't resonate well with the audience.  \n",
    "\n",
    "\n",
    "<b>2. Cluster 1 - Agreeable </b>\n",
    "\n",
    "This segment reflects posts that lack significant interaction or entertainment value, interest, emotion, negativity, or surprise. A typical post in this category could be a simple announcement or standard promotional content that doesn't evoke strong reactions but offers valuable information to followers. The content is likely straightforward and conventional, lacking any surprising elements, and may primarily focus on transactional aspects.\n",
    "\n",
    "<b>3. Cluster 2 - Emotionally Charged </b>\n",
    "\n",
    "This segment is characterized by posts that are emotionally charged and negative, with moderate levels of interactivity and entertainment, and low levels of surprise. A typical post for this segment might involve an unexpected announcement, such as the cancellation of a live selling event or a change in promotion, prompting the seller to seek feedback or opinions from their audience through polls or comments to address the disappointment or sadness caused by the announcement. Alternatively, the post could involve the seller discussing a controversial topic related to their products, leading to a heated debate among their followers. This could result in strong negative reactions or expressions of sadness, potentially leading to comments and shares.\n",
    "\n",
    "<b>4. Cluster 3 - Highly Interactive and Emotionally Neutral </b>\n",
    "\n",
    "This cluster is characterized by high levels of interactivity and low emotional intensity, with posts that are not particularly negative or surprising. An example post for this cluster might be a live question-and-answer session where the seller interacts with viewers, answering questions and providing information in an engaging manner. It can also include posts that evoke sad reactions, particularly when the seller's story involves disability or challenging circumstances.\n",
    "\n",
    "<b>5. Cluster 4 - Controversial </b>\n",
    "\n",
    "This cluster demonstrates low interactivity and entertainment, with a surprising amount of negativity. While not highly emotional, the content lacks agreeIt  can also represent situations where sellers receive negative feedback from customers regarding their products, particularly about the disparity between the actual product and its representation in photos. This can lead to a perception of low interactivity and entertainment, with a surprising amount of negativity. It  can also represent situations where sellers receive negative feedback from customers regarding their products, particularly about the disparity between the actual product and its representation in photos. This can lead to a perception of low interactivity and entertainment, with a surprising amount of negativity. "
   ]
  },
  {
   "cell_type": "code",
   "execution_count": 22,
   "id": "9743d35a",
   "metadata": {
    "scrolled": false
   },
   "outputs": [
    {
     "name": "stdout",
     "output_type": "stream",
     "text": [
      "\n",
      "-------------------------------\n",
      "Cluster centroids & proportions\n",
      "-------------------------------\n",
      "status_type  photo  text  video\n",
      "Cluster                        \n",
      "0             0.51  0.27   0.22\n",
      "1             0.65  0.06   0.29\n",
      "2             1.00  0.00   0.00\n",
      "3             0.02  0.00   0.98\n",
      "4             0.67  0.00   0.33\n",
      "\n",
      "-------\n",
      "Photo\n",
      "-------\n",
      "Cluster\n",
      "0      71\n",
      "1    1366\n",
      "2       2\n",
      "3       2\n",
      "4       2\n",
      "Name: photo, dtype: int64\n",
      "\n",
      "\n",
      "-------\n",
      "Video\n",
      "-------\n",
      "Cluster\n",
      "0     30\n",
      "1    608\n",
      "2      0\n",
      "3    124\n",
      "4      1\n",
      "Name: video, dtype: int64\n",
      "\n",
      "\n",
      "-------\n",
      "Text\n",
      "-------   \n",
      "Cluster\n",
      "0     38\n",
      "1    118\n",
      "2      0\n",
      "3      0\n",
      "4      0\n",
      "Name: text, dtype: int64\n",
      "\n"
     ]
    }
   ],
   "source": [
    "# concatenating cluster memberships with principal components\n",
    "clst_pca_df = pd.concat([reaction_kmeans_pca,\n",
    "                         factor_loadings_df],\n",
    "                         axis = 1)\n",
    "\n",
    "# concatenating demographic information with pca-clusters\n",
    "final_df = pd.concat([facebook_df.loc[ : , ['status_type'] ],\n",
    "                      clst_pca_df.round(decimals = 2)],\n",
    "                      axis = 1)\n",
    "\n",
    "# renaming columns\n",
    "final_df.columns = ['status_type', 'Cluster', \n",
    "                    'Interactive & Entertaining',     \n",
    "                    'Interesting',\n",
    "                    'Emotional',\n",
    "                    'Negative', \n",
    "                    'Surprising'\n",
    "                   ]\n",
    "\n",
    "# Group by cluster and status_type, then count the occurrences\n",
    "status_type_counts = final_df.groupby(['Cluster', 'status_type']).size().unstack(fill_value=0)\n",
    "\n",
    "# Calculate the proportions of each status type within each cluster\n",
    "status_type_proportions = status_type_counts.div(status_type_counts.sum(axis=1), axis=0)\n",
    "\n",
    "# Analyze the status types of each segment\n",
    "photo_counts = status_type_counts['photo']\n",
    "video_counts = status_type_counts['video']\n",
    "text_counts = status_type_counts['text']\n",
    "\n",
    "print(f\"\"\"\n",
    "-------------------------------\n",
    "Cluster centroids & proportions\n",
    "-------------------------------\n",
    "{status_type_proportions.round(decimals = 2)}\n",
    "\n",
    "-------\n",
    "Photo\n",
    "-------\n",
    "{photo_counts}\n",
    "\\n\n",
    "-------\n",
    "Video\n",
    "-------\n",
    "{video_counts}\n",
    "\\n\n",
    "-------\n",
    "Text\n",
    "-------   \n",
    "{text_counts}\n",
    "\"\"\")"
   ]
  },
  {
   "cell_type": "markdown",
   "id": "ffb561d7",
   "metadata": {},
   "source": [
    "<b>Segment Renaming and Photo Analysis:</b>\n",
    "\n",
    "1. <b>Thought Provoking</b>\n",
    "    - This segment predominantly features photo posts, indicating their popularity, although text and video posts are also significant. The cluster's centroid values suggest a moderate level of interest, with slight emotional engagement and interactivity, aligning with the distribution of post types. In photo analysis, this suggests that photos are generally perceived as interesting or agreeable, as indicated by the higher frequency of likes. However, some negativity can also be present, such as angry reactions, indicating that certain photos can evoke strong emotional responses. People can typically scroll through photos quickly and understand their purpose, as opposed to video which requires more of a time commitment (Adobe, 2021). This is also valuable for announcements or informative posts, as photos may be more effective at quickly conveying information and getting people's attention. Similarly, this can be effective for people who wants instant message delivery just by scrolling rather than watching long videos. \n",
    "<br><br>\n",
    "\n",
    "2. <b>Interesting & Agreeable</b>\n",
    "    - This particular segment stands out among the others due to its high proportion of photo posts compared to other content types. This indicates a strong preference for photos, suggesting that they are more engaging than other types of content within this group. Photos are known to evoke emotion and capture attention quickly, often leading to a simple like interaction. However, despite this preference, the overall level of engagement and emotional response from this cluster is lower compared to others. This could be because the photos in this cluster are more neutral or less engaging compared to other clusters' content.<br><br>\n",
    "    This particular group, which is primarily interested in photos, demonstrates that this type of content tends to receive more likes compared to other reactions. Research by Sumner, E. M., Ruge-Jones, L., & Alcorn, D. (2017) supports this, suggesting that when participants click the like button, they are expressing that the content is encouraging, thought-provoking, informative, useful, cute, funny, exceptional, creative, or otherwise important and interesting. In essence, regardless of the specific wording, liking a post communicates a positive sentiment towards its content, such as endorsement, agreement, amusement, or interest.\n",
    "<br><br>\n",
    "\n",
    "3. <b>Emotionally Charged</b>\n",
    "    - This group stands out for its exceptionally high levels of emotional and negative content. They particularly favor photo posts, but due to the small sample size, their use appears to be minimal compared to other post and content types. As a result, the findings may have limited generalizability and impact.\n",
    "<br><br>\n",
    "\n",
    "4. <b>Highly Interactive and Emotionally Neutral</b>\n",
    "    - This group shows a strong preference for video content, demonstrating minimal engagement with photos or text posts. It likely represents an audience that favors dynamic, video-based content over static images or text. Like Cluster 2, there is a small number of samples for this segment in photos but a significant number in video content, as expected.\n",
    "<br><br>\n",
    "\n",
    "5. <b> Controversial</b>\n",
    "    - This group stands out for its  high levels of negative and surprising content. They particularly favor photo posts, but due to the small sample size, their use appears to be minimal compared to other post and content types. As a result, the findings may have limited generalizability and impact.\n",
    "<br><br>\n",
    "\n",
    "Overall, the analysis suggests that photos are generally well-received across clusters, with some variations in engagement levels and preferences for other content types like videos and text. \n",
    "\n",
    "Clusters 0 and 1 show a clear preference for using photos as their main type of status. On the other hand, Clusters 2, 3, and 4 tend to use photos less frequently compared to other types of status updates. Cluster 2 stands out for exclusively using photos, suggesting a targeted content approach. Cluster 3, however, shows a strong interest in videos. Cluster 4, despite having a high proportion of photos, also incorporates videos, indicating a more diverse content strategy."
   ]
  },
  {
   "cell_type": "markdown",
   "id": "99e2d208",
   "metadata": {},
   "source": [
    "<h4> Modeling Preparation </h4>"
   ]
  },
  {
   "cell_type": "markdown",
   "id": "85d432ad",
   "metadata": {},
   "source": [
    "<h4> Standardization </h4>"
   ]
  },
  {
   "cell_type": "code",
   "execution_count": 23,
   "id": "7757e3b4",
   "metadata": {},
   "outputs": [
    {
     "data": {
      "text/html": [
       "<div>\n",
       "<style scoped>\n",
       "    .dataframe tbody tr th:only-of-type {\n",
       "        vertical-align: middle;\n",
       "    }\n",
       "\n",
       "    .dataframe tbody tr th {\n",
       "        vertical-align: top;\n",
       "    }\n",
       "\n",
       "    .dataframe thead th {\n",
       "        text-align: right;\n",
       "    }\n",
       "</style>\n",
       "<table border=\"1\" class=\"dataframe\">\n",
       "  <thead>\n",
       "    <tr style=\"text-align: right;\">\n",
       "      <th></th>\n",
       "      <th>num_comments</th>\n",
       "      <th>num_shares</th>\n",
       "      <th>num_likes</th>\n",
       "      <th>num_loves</th>\n",
       "      <th>num_wows</th>\n",
       "      <th>num_hahas</th>\n",
       "      <th>num_sads</th>\n",
       "      <th>num_angrys</th>\n",
       "      <th>photo</th>\n",
       "    </tr>\n",
       "  </thead>\n",
       "  <tbody>\n",
       "    <tr>\n",
       "      <th>0</th>\n",
       "      <td>0</td>\n",
       "      <td>0</td>\n",
       "      <td>150</td>\n",
       "      <td>0</td>\n",
       "      <td>0</td>\n",
       "      <td>0</td>\n",
       "      <td>0</td>\n",
       "      <td>0</td>\n",
       "      <td>1</td>\n",
       "    </tr>\n",
       "    <tr>\n",
       "      <th>1</th>\n",
       "      <td>2</td>\n",
       "      <td>3</td>\n",
       "      <td>202</td>\n",
       "      <td>7</td>\n",
       "      <td>1</td>\n",
       "      <td>0</td>\n",
       "      <td>0</td>\n",
       "      <td>0</td>\n",
       "      <td>1</td>\n",
       "    </tr>\n",
       "  </tbody>\n",
       "</table>\n",
       "</div>"
      ],
      "text/plain": [
       "   num_comments  num_shares  num_likes  num_loves  num_wows  num_hahas  num_sads  num_angrys  photo\n",
       "0             0           0        150          0         0          0         0           0      1\n",
       "1             2           3        202          7         1          0         0           0      1"
      ]
     },
     "execution_count": 23,
     "metadata": {},
     "output_type": "execute_result"
    }
   ],
   "source": [
    "# Dropping columns before standardization\n",
    "facebook_df = facebook_df.drop(['status_id', 'status_type', 'time_published',\n",
    "                                'total_engagements', 'total_positive_engagements',\n",
    "                                'total_negative_engagements', 'year'],\n",
    "                               axis = 1)\n",
    "\n",
    "# Displaying the first two rows\n",
    "facebook_df.head(n=2)"
   ]
  },
  {
   "cell_type": "code",
   "execution_count": 24,
   "id": "d211d0fd",
   "metadata": {},
   "outputs": [
    {
     "data": {
      "text/plain": [
       "num_comments     6.20\n",
       "num_shares       4.62\n",
       "num_likes        3.92\n",
       "num_loves        5.36\n",
       "num_wows        20.45\n",
       "num_hahas       16.47\n",
       "num_sads        18.16\n",
       "num_angrys      22.10\n",
       "dtype: float64"
      ]
     },
     "execution_count": 24,
     "metadata": {},
     "output_type": "execute_result"
    }
   ],
   "source": [
    "# subsetting X-data\n",
    "x_data = facebook_df.loc[ : , 'num_comments' : 'num_angrys']\n",
    "\n",
    "# checking skewness\n",
    "x_data.skew().round(decimals = 2)"
   ]
  },
  {
   "cell_type": "code",
   "execution_count": 25,
   "id": "512b1e59",
   "metadata": {},
   "outputs": [
    {
     "data": {
      "text/plain": [
       "num_comments    0.27\n",
       "num_shares      0.74\n",
       "num_likes       0.00\n",
       "num_loves       0.78\n",
       "num_wows        1.29\n",
       "num_hahas       1.91\n",
       "num_sads        2.80\n",
       "num_angrys      3.77\n",
       "dtype: float64"
      ]
     },
     "execution_count": 25,
     "metadata": {},
     "output_type": "execute_result"
    }
   ],
   "source": [
    "# yeo-johnson transformation\n",
    "x_transformed = power_transform(X           = x_data,\n",
    "                                method      = 'yeo-johnson',\n",
    "                                standardize = True        )\n",
    "\n",
    "\n",
    "# storing results as a DataFrame\n",
    "x_transformed_df = pd.DataFrame(data    = x_transformed,\n",
    "                                columns = list(x_data.columns))\n",
    "\n",
    "\n",
    "# checking skewness results\n",
    "x_transformed_df.skew().round(decimals = 2)"
   ]
  },
  {
   "cell_type": "code",
   "execution_count": 26,
   "id": "d2ad9bbc",
   "metadata": {},
   "outputs": [
    {
     "name": "stdout",
     "output_type": "stream",
     "text": [
      "num_comments    733040.526533\n",
      "num_shares       15315.110634\n",
      "num_likes       218288.813477\n",
      "num_loves         1680.086166\n",
      "num_wows            75.978259\n",
      "num_hahas           16.896863\n",
      "num_sads             3.392409\n",
      "num_angrys           0.817271\n",
      "dtype: float64 \n",
      "\n",
      "\n",
      "num_comments    1.0\n",
      "num_shares      1.0\n",
      "num_likes       1.0\n",
      "num_loves       1.0\n",
      "num_wows        1.0\n",
      "num_hahas       1.0\n",
      "num_sads        1.0\n",
      "num_angrys      1.0\n",
      "dtype: float64\n"
     ]
    },
    {
     "name": "stderr",
     "output_type": "stream",
     "text": [
      "C:\\Users\\joann\\anaconda3\\Lib\\site-packages\\numpy\\core\\fromnumeric.py:3745: FutureWarning: The behavior of DataFrame.var with axis=None is deprecated, in a future version this will reduce over both axes and return a scalar. To retain the old behavior, pass axis=0 (or do not pass axis)\n",
      "  return var(axis=axis, dtype=dtype, out=out, ddof=ddof, **kwargs)\n"
     ]
    }
   ],
   "source": [
    "# standardizing X-data (st = scaled and transformed)\n",
    "x_data_st = scaler(df = x_transformed_df)\n",
    "\n",
    "\n",
    "# checking pre- and post-scaling variance\n",
    "print(np.var(x_data), '\\n\\n')\n",
    "print(np.var(x_data_st))"
   ]
  },
  {
   "cell_type": "code",
   "execution_count": 27,
   "id": "53340817",
   "metadata": {},
   "outputs": [
    {
     "data": {
      "text/plain": [
       "num_comments    0.27\n",
       "num_shares      0.74\n",
       "num_likes       0.00\n",
       "num_loves       0.78\n",
       "num_wows        1.29\n",
       "num_hahas       1.91\n",
       "num_sads        2.80\n",
       "num_angrys      3.77\n",
       "dtype: float64"
      ]
     },
     "execution_count": 27,
     "metadata": {},
     "output_type": "execute_result"
    }
   ],
   "source": [
    "# Rechecking skewness\n",
    "x_data_st.skew().round(decimals = 2)"
   ]
  },
  {
   "cell_type": "code",
   "execution_count": 28,
   "id": "e3b851f8",
   "metadata": {},
   "outputs": [],
   "source": [
    "# declaring explanatory variables\n",
    "facebook_data   = x_data_st\n",
    "\n",
    "\n",
    "# declaring response variable\n",
    "facebook_target = facebook_df['photo']"
   ]
  },
  {
   "cell_type": "code",
   "execution_count": 29,
   "id": "8326c9e0",
   "metadata": {},
   "outputs": [],
   "source": [
    "# training and testing sets\n",
    "x_train, x_test, y_train, y_test = train_test_split(facebook_data,\n",
    "                                                    facebook_target,\n",
    "                                                    test_size    = 0.25,\n",
    "                                                    random_state = 702,\n",
    "                                                    stratify     = facebook_target)\n",
    "\n",
    "# merging training data for statsmodels\n",
    "facebook_train = pd.concat([x_train, y_train], axis = 1)"
   ]
  },
  {
   "cell_type": "markdown",
   "id": "921dea84",
   "metadata": {},
   "source": [
    "<h4> Model 1: Original x-features </h4>"
   ]
  },
  {
   "cell_type": "code",
   "execution_count": 30,
   "id": "fcd68ff2",
   "metadata": {},
   "outputs": [
    {
     "name": "stdout",
     "output_type": "stream",
     "text": [
      "Optimization terminated successfully.\n",
      "         Current function value: 0.525702\n",
      "         Iterations 7\n"
     ]
    },
    {
     "data": {
      "text/html": [
       "<table class=\"simpletable\">\n",
       "<tr>\n",
       "        <td>Model:</td>              <td>Logit</td>           <td>Method:</td>          <td>MLE</td>    \n",
       "</tr>\n",
       "<tr>\n",
       "  <td>Dependent Variable:</td>       <td>photo</td>      <td>Pseudo R-squared:</td>    <td>0.213</td>   \n",
       "</tr>\n",
       "<tr>\n",
       "         <td>Date:</td>        <td>2024-04-14 16:33</td>       <td>AIC:</td>         <td>1878.0361</td> \n",
       "</tr>\n",
       "<tr>\n",
       "   <td>No. Observations:</td>        <td>1771</td>             <td>BIC:</td>         <td>1921.8705</td> \n",
       "</tr>\n",
       "<tr>\n",
       "       <td>Df Model:</td>              <td>7</td>         <td>Log-Likelihood:</td>    <td>-931.02</td>  \n",
       "</tr>\n",
       "<tr>\n",
       "     <td>Df Residuals:</td>          <td>1763</td>           <td>LL-Null:</td>        <td>-1183.6</td>  \n",
       "</tr>\n",
       "<tr>\n",
       "      <td>Converged:</td>           <td>1.0000</td>        <td>LLR p-value:</td>    <td>6.2601e-105</td>\n",
       "</tr>\n",
       "<tr>\n",
       "    <td>No. Iterations:</td>        <td>7.0000</td>           <td>Scale:</td>         <td>1.0000</td>   \n",
       "</tr>\n",
       "</table>\n",
       "<table class=\"simpletable\">\n",
       "<tr>\n",
       "        <td></td>        <th>Coef.</th>  <th>Std.Err.</th>     <th>z</th>     <th>P>|z|</th> <th>[0.025</th>  <th>0.975]</th> \n",
       "</tr>\n",
       "<tr>\n",
       "  <th>Intercept</th>    <td>0.4239</td>   <td>0.0594</td>   <td>7.1341</td>  <td>0.0000</td> <td>0.3075</td>  <td>0.5404</td> \n",
       "</tr>\n",
       "<tr>\n",
       "  <th>num_comments</th> <td>-0.2726</td>  <td>0.0951</td>   <td>-2.8654</td> <td>0.0042</td> <td>-0.4591</td> <td>-0.0861</td>\n",
       "</tr>\n",
       "<tr>\n",
       "  <th>num_shares</th>   <td>-0.8332</td>  <td>0.0809</td>  <td>-10.3031</td> <td>0.0000</td> <td>-0.9917</td> <td>-0.6747</td>\n",
       "</tr>\n",
       "<tr>\n",
       "  <th>num_likes</th>    <td>0.1834</td>   <td>0.0777</td>   <td>2.3604</td>  <td>0.0183</td> <td>0.0311</td>  <td>0.3357</td> \n",
       "</tr>\n",
       "<tr>\n",
       "  <th>num_wows</th>     <td>0.5145</td>   <td>0.0797</td>   <td>6.4534</td>  <td>0.0000</td> <td>0.3582</td>  <td>0.6708</td> \n",
       "</tr>\n",
       "<tr>\n",
       "  <th>num_hahas</th>    <td>-0.5016</td>  <td>0.0845</td>   <td>-5.9339</td> <td>0.0000</td> <td>-0.6673</td> <td>-0.3359</td>\n",
       "</tr>\n",
       "<tr>\n",
       "  <th>num_sads</th>     <td>-0.1756</td>  <td>0.0770</td>   <td>-2.2796</td> <td>0.0226</td> <td>-0.3265</td> <td>-0.0246</td>\n",
       "</tr>\n",
       "<tr>\n",
       "  <th>num_angrys</th>   <td>-0.3267</td>  <td>0.0979</td>   <td>-3.3364</td> <td>0.0008</td> <td>-0.5186</td> <td>-0.1348</td>\n",
       "</tr>\n",
       "</table><br/>\n"
      ],
      "text/latex": [
       "\\begin{table}\n",
       "\\caption{Results: Logit}\n",
       "\\label{}\n",
       "\\begin{center}\n",
       "\\begin{tabular}{llll}\n",
       "\\hline\n",
       "Model:              & Logit            & Method:           & MLE          \\\\\n",
       "Dependent Variable: & photo            & Pseudo R-squared: & 0.213        \\\\\n",
       "Date:               & 2024-04-14 16:33 & AIC:              & 1878.0361    \\\\\n",
       "No. Observations:   & 1771             & BIC:              & 1921.8705    \\\\\n",
       "Df Model:           & 7                & Log-Likelihood:   & -931.02      \\\\\n",
       "Df Residuals:       & 1763             & LL-Null:          & -1183.6      \\\\\n",
       "Converged:          & 1.0000           & LLR p-value:      & 6.2601e-105  \\\\\n",
       "No. Iterations:     & 7.0000           & Scale:            & 1.0000       \\\\\n",
       "\\hline\n",
       "\\end{tabular}\n",
       "\\end{center}\n",
       "\n",
       "\\begin{center}\n",
       "\\begin{tabular}{lrrrrrr}\n",
       "\\hline\n",
       "              &   Coef. & Std.Err. &        z & P$> |$z$|$ &  [0.025 &  0.975]  \\\\\n",
       "\\hline\n",
       "Intercept     &  0.4239 &   0.0594 &   7.1341 &      0.0000 &  0.3075 &  0.5404  \\\\\n",
       "num\\_comments & -0.2726 &   0.0951 &  -2.8654 &      0.0042 & -0.4591 & -0.0861  \\\\\n",
       "num\\_shares   & -0.8332 &   0.0809 & -10.3031 &      0.0000 & -0.9917 & -0.6747  \\\\\n",
       "num\\_likes    &  0.1834 &   0.0777 &   2.3604 &      0.0183 &  0.0311 &  0.3357  \\\\\n",
       "num\\_wows     &  0.5145 &   0.0797 &   6.4534 &      0.0000 &  0.3582 &  0.6708  \\\\\n",
       "num\\_hahas    & -0.5016 &   0.0845 &  -5.9339 &      0.0000 & -0.6673 & -0.3359  \\\\\n",
       "num\\_sads     & -0.1756 &   0.0770 &  -2.2796 &      0.0226 & -0.3265 & -0.0246  \\\\\n",
       "num\\_angrys   & -0.3267 &   0.0979 &  -3.3364 &      0.0008 & -0.5186 & -0.1348  \\\\\n",
       "\\hline\n",
       "\\end{tabular}\n",
       "\\end{center}\n",
       "\\end{table}\n",
       "\\bigskip\n"
      ],
      "text/plain": [
       "<class 'statsmodels.iolib.summary2.Summary'>\n",
       "\"\"\"\n",
       "                          Results: Logit\n",
       "==================================================================\n",
       "Model:              Logit            Method:           MLE        \n",
       "Dependent Variable: photo            Pseudo R-squared: 0.213      \n",
       "Date:               2024-04-14 16:33 AIC:              1878.0361  \n",
       "No. Observations:   1771             BIC:              1921.8705  \n",
       "Df Model:           7                Log-Likelihood:   -931.02    \n",
       "Df Residuals:       1763             LL-Null:          -1183.6    \n",
       "Converged:          1.0000           LLR p-value:      6.2601e-105\n",
       "No. Iterations:     7.0000           Scale:            1.0000     \n",
       "-------------------------------------------------------------------\n",
       "               Coef.   Std.Err.     z      P>|z|    [0.025   0.975]\n",
       "-------------------------------------------------------------------\n",
       "Intercept      0.4239    0.0594    7.1341  0.0000   0.3075   0.5404\n",
       "num_comments  -0.2726    0.0951   -2.8654  0.0042  -0.4591  -0.0861\n",
       "num_shares    -0.8332    0.0809  -10.3031  0.0000  -0.9917  -0.6747\n",
       "num_likes      0.1834    0.0777    2.3604  0.0183   0.0311   0.3357\n",
       "num_wows       0.5145    0.0797    6.4534  0.0000   0.3582   0.6708\n",
       "num_hahas     -0.5016    0.0845   -5.9339  0.0000  -0.6673  -0.3359\n",
       "num_sads      -0.1756    0.0770   -2.2796  0.0226  -0.3265  -0.0246\n",
       "num_angrys    -0.3267    0.0979   -3.3364  0.0008  -0.5186  -0.1348\n",
       "==================================================================\n",
       "\n",
       "\"\"\""
      ]
     },
     "execution_count": 30,
     "metadata": {},
     "output_type": "execute_result"
    }
   ],
   "source": [
    "# instantiating a logistic regression model object\n",
    "logistic_full = smf.logit(formula = \"\"\" photo ~  num_comments +\n",
    "                                                 num_shares +\n",
    "                                                 num_likes +\n",
    "                                                 num_wows +\n",
    "                                                 num_hahas +\n",
    "                                                 num_sads + \n",
    "                                                 num_angrys \n",
    "                                                 \"\"\",\n",
    "                                        data    = facebook_train)\n",
    "\n",
    "\n",
    "# fitting the model object\n",
    "results_full = logistic_full.fit()\n",
    "\n",
    "\n",
    "# checking the results SUMMARY\n",
    "results_full.summary2()"
   ]
  },
  {
   "cell_type": "code",
   "execution_count": 31,
   "id": "094c38fc",
   "metadata": {},
   "outputs": [
    {
     "name": "stdout",
     "output_type": "stream",
     "text": [
      "Train-Test Gap   : 0.006\n",
      "Test AUC Score: 0.734\n",
      "Precision: 0.756\n",
      "Recall: 0.753\n",
      "\n"
     ]
    }
   ],
   "source": [
    "# INSTANTIATING a logistic regression model\n",
    "logreg = sklearn.linear_model.LogisticRegression(solver = 'lbfgs',\n",
    "                                                 C = 1,\n",
    "                                                 random_state = 702)\n",
    "\n",
    "# FITTING the training data\n",
    "logreg_fit = logreg.fit(x_train, y_train)\n",
    "\n",
    "# Using custom threshol for probability\n",
    "custom_threshold_o = 0.64\n",
    "\n",
    "# PREDICTING based on the testing set\n",
    "probabilities_orig = logreg_fit.predict_proba(x_test)\n",
    "adjusted_predictions_orig = (probabilities_orig[:, 1] >= custom_threshold_o).astype(int)\n",
    "\n",
    "# saving scoring data for future use\n",
    "train_score_o = round(logreg_fit.score(x_train, y_train), ndigits = 4)      \n",
    "test_score_o  = round(logreg_fit.score(x_test, y_test),   ndigits = 4)       \n",
    "roc_score_o = roc_auc_score(y_true = y_test, y_score = probabilities_orig[:, 1])\n",
    "\n",
    "# Calculate precision and recall\n",
    "precision_orig = precision_score(y_true = y_test, y_pred = adjusted_predictions_orig)\n",
    "recall_orig = recall_score(y_true = y_test, y_pred = adjusted_predictions_orig)\n",
    "\n",
    "# displaying and saving the gap between training and testing\n",
    "print(f\"\"\"\\\n",
    "Train-Test Gap   : {round(abs(train_score_o - test_score_o), ndigits=3)}\n",
    "Test AUC Score: {roc_score_o.round(decimals = 3)}\n",
    "Precision: {precision_orig.round(decimals = 3)}\n",
    "Recall: {recall_orig.round(decimals = 3)}\n",
    "\"\"\")"
   ]
  },
  {
   "cell_type": "code",
   "execution_count": 32,
   "id": "34fe2c1a",
   "metadata": {},
   "outputs": [
    {
     "name": "stdout",
     "output_type": "stream",
     "text": [
      "\n",
      "True Negatives : 142\n",
      "False Positives: 88\n",
      "False Negatives: 89\n",
      "True Positives : 272\n",
      "\n"
     ]
    }
   ],
   "source": [
    "# unpacking the confusion matrix\n",
    "logreg_tn, \\\n",
    "logreg_fp, \\\n",
    "logreg_fn, \\\n",
    "logreg_tp = confusion_matrix(y_true = y_test, y_pred = adjusted_predictions_orig).ravel()\n",
    "\n",
    "\n",
    "# printing each result one-by-one\n",
    "print(f\"\"\"\n",
    "True Negatives : {logreg_tn}\n",
    "False Positives: {logreg_fp}\n",
    "False Negatives: {logreg_fn}\n",
    "True Positives : {logreg_tp}\n",
    "\"\"\")"
   ]
  },
  {
   "cell_type": "markdown",
   "id": "3b368759",
   "metadata": {},
   "source": [
    "<h4> Model 2: Retained principal components </h4><br>\n",
    "Classification Modeling with Principal Components"
   ]
  },
  {
   "cell_type": "code",
   "execution_count": 33,
   "id": "6d0431ca",
   "metadata": {},
   "outputs": [],
   "source": [
    "# INSTANTIATING a new model using the first five principal components\n",
    "pca_5 = PCA(n_components = 5,\n",
    "            random_state = 702)\n",
    "\n",
    "\n",
    "# FITTING and TRANSFORMING the x_data_standardized\n",
    "reaction_pca_5 = pca_5.fit_transform(X = x_data_st)"
   ]
  },
  {
   "cell_type": "code",
   "execution_count": 34,
   "id": "a30332dd",
   "metadata": {},
   "outputs": [],
   "source": [
    "# selecting x- and y-data\n",
    "x_data = reaction_pca_5\n",
    "y_data = facebook_df['photo']\n",
    "\n",
    "\n",
    "# training and testing sets\n",
    "x_train, x_test, y_train, y_test = train_test_split(x_data,\n",
    "                                                    y_data,\n",
    "                                                    test_size    = 0.25,\n",
    "                                                    random_state = 702,\n",
    "                                                    stratify     = y_data)"
   ]
  },
  {
   "cell_type": "code",
   "execution_count": 35,
   "id": "67c4eeda",
   "metadata": {},
   "outputs": [
    {
     "name": "stdout",
     "output_type": "stream",
     "text": [
      "\n",
      "Train-Test Gap: 0.011\n",
      "Test AUC Score: 0.726\n",
      "Precision: 0.764\n",
      "Recall: 0.762\n",
      "\n"
     ]
    }
   ],
   "source": [
    "# INSTANTIATING a logistic regression model\n",
    "model_pca = sklearn.linear_model.LogisticRegression(solver       = 'lbfgs',\n",
    "                                                    penalty      = 'l2',\n",
    "                                                    C            = 1,\n",
    "                                                    random_state = 702)\n",
    "\n",
    "\n",
    "# FITTING the training data\n",
    "model_fit_pca = model_pca.fit(x_train, y_train)\n",
    "\n",
    "# Using custom threshol for probability\n",
    "custom_threshold_pca = 0.66\n",
    "\n",
    "# PREDICTING based on the testing set\n",
    "probabilities_pca = model_fit_pca.predict_proba(x_test)\n",
    "adjusted_predictions_pca = (probabilities_pca[:, 1] >= custom_threshold_pca).astype(int)\n",
    "\n",
    "# checking results\n",
    "train_acc_pca = model_fit_pca.score(x_train, y_train)\n",
    "test_acc_pca = model_fit_pca.score(x_test, y_test)\n",
    "roc_score_pca = roc_auc_score(y_true = y_test, y_score = probabilities_pca[:, 1])\n",
    "\n",
    "# Calculate precision and recall\n",
    "precision_pca = precision_score(y_true = y_test, y_pred = adjusted_predictions_pca)\n",
    "recall_pca = recall_score(y_true = y_test, y_pred = adjusted_predictions_pca)\n",
    "\n",
    "print(f\"\"\"\n",
    "Train-Test Gap: {round(abs(train_acc_pca - test_acc_pca), ndigits=3)}\n",
    "Test AUC Score: {roc_score_pca.round(decimals = 3)}\n",
    "Precision: {precision_pca.round(decimals = 3)}\n",
    "Recall: {recall_pca.round(decimals = 3)}\n",
    "\"\"\")"
   ]
  },
  {
   "cell_type": "code",
   "execution_count": 36,
   "id": "9c0558b3",
   "metadata": {},
   "outputs": [
    {
     "name": "stdout",
     "output_type": "stream",
     "text": [
      "\n",
      "True Negatives : 145\n",
      "False Positives: 85\n",
      "False Negatives: 86\n",
      "True Positives : 275\n",
      "\n"
     ]
    }
   ],
   "source": [
    "# unpacking the confusion matrix\n",
    "model_pca_tn, \\\n",
    "model_pca_fp, \\\n",
    "model_pca_fn, \\\n",
    "model_pca_tp = confusion_matrix(y_true = y_test, y_pred = adjusted_predictions_pca).ravel()\n",
    "\n",
    "\n",
    "# printing each result one-by-one\n",
    "print(f\"\"\"\n",
    "True Negatives : {model_pca_tn}\n",
    "False Positives: {model_pca_fp}\n",
    "False Negatives: {model_pca_fn}\n",
    "True Positives : {model_pca_tp}\n",
    "\"\"\")"
   ]
  },
  {
   "cell_type": "markdown",
   "id": "b3e9e356",
   "metadata": {},
   "source": [
    "<h4> Model 3: Retained clusters</h4>"
   ]
  },
  {
   "cell_type": "code",
   "execution_count": 37,
   "id": "2d68fd88",
   "metadata": {},
   "outputs": [
    {
     "name": "stdout",
     "output_type": "stream",
     "text": [
      "Cluster\n",
      "1    1116\n",
      "0     603\n",
      "4     368\n",
      "3     138\n",
      "2     137\n",
      "Name: count, dtype: int64\n"
     ]
    }
   ],
   "source": [
    "# standardizing the data for clustering\n",
    "pca_rescaled = scaler(df = pd.DataFrame(data = reaction_pca_5))\n",
    "\n",
    "\n",
    "# INSTANTIATING a k-Means object with clusters\n",
    "reaction_k_pca = KMeans(n_clusters   = 5     ,\n",
    "                        n_init       = 'auto',\n",
    "                        random_state = 702   )\n",
    "\n",
    "\n",
    "# fitting the object to the data\n",
    "reaction_k_pca.fit(pca_rescaled)\n",
    "\n",
    "\n",
    "# converting the clusters to a DataFrame\n",
    "reaction_kmeans_pca = pd.DataFrame({'Cluster': reaction_k_pca.labels_})\n",
    "\n",
    "\n",
    "# checking cluster populations\n",
    "print(reaction_kmeans_pca.iloc[: , 0].value_counts())"
   ]
  },
  {
   "cell_type": "code",
   "execution_count": 38,
   "id": "19792500",
   "metadata": {},
   "outputs": [
    {
     "data": {
      "text/plain": [
       "1  2  3  4\n",
       "1  0  0  0    1116\n",
       "0  1  0  0     137\n",
       "   0  1  0     138\n",
       "      0  1     368\n",
       "         0     603\n",
       "Name: count, dtype: int64"
      ]
     },
     "execution_count": 38,
     "metadata": {},
     "output_type": "execute_result"
    }
   ],
   "source": [
    "# factorizing cluster results \n",
    "cluster_df = pd.get_dummies(data       = reaction_kmeans_pca['Cluster'],\n",
    "                            drop_first = True).astype(dtype = int)\n",
    "\n",
    "\n",
    "# checking results\n",
    "cluster_df.value_counts(normalize = False).sort_index(ascending = False)"
   ]
  },
  {
   "cell_type": "code",
   "execution_count": 39,
   "id": "5c9e9a60",
   "metadata": {},
   "outputs": [],
   "source": [
    "# selecting x- and y-data\n",
    "x_data = cluster_df\n",
    "y_data = facebook_df['photo']\n",
    "\n",
    "\n",
    "# training and testing sets\n",
    "x_train, x_test, y_train, y_test = train_test_split(x_data,\n",
    "                                                    y_data,\n",
    "                                                    test_size    = 0.25,\n",
    "                                                    random_state = 702,\n",
    "                                                    stratify     = y_data)"
   ]
  },
  {
   "cell_type": "code",
   "execution_count": 40,
   "id": "78f170de",
   "metadata": {},
   "outputs": [
    {
     "name": "stdout",
     "output_type": "stream",
     "text": [
      "\n",
      "Train-Test Gap: 0.009\n",
      "Test AUC Score: 0.697\n",
      "Precision: 0.762\n",
      "Recall: 0.584\n",
      "\n"
     ]
    }
   ],
   "source": [
    "# INSTANTIATING a logistic regression model\n",
    "model_k = sklearn.linear_model.LogisticRegression(solver       = 'lbfgs',\n",
    "                                                  C            = 1,\n",
    "                                                  random_state = 702)\n",
    "\n",
    "\n",
    "# FITTING the training data\n",
    "model_fit_k = model_k.fit(x_train, y_train)\n",
    "\n",
    "# Using custom threshol for probability\n",
    "custom_threshold_k = 0.66\n",
    "\n",
    "# PREDICTING based on the testing set\n",
    "probabilities_k = model_fit_k.predict_proba(x_test)\n",
    "adjusted_predictions_k = (probabilities_k[:, 1] >= custom_threshold_k).astype(int)\n",
    "\n",
    "# checking results\n",
    "train_acc_k = model_fit_k.score(x_train, y_train)\n",
    "test_acc_k = model_fit_k.score(x_test, y_test)\n",
    "roc_score_k = roc_auc_score(y_true = y_test, y_score = probabilities_k[:, 1])\n",
    "\n",
    "# Calculate precision and recall\n",
    "precision_k = precision_score(y_true = y_test, y_pred = adjusted_predictions_k)\n",
    "recall_k = recall_score(y_true = y_test, y_pred = adjusted_predictions_k)\n",
    "\n",
    "print(f\"\"\"\n",
    "Train-Test Gap: {round(abs(train_acc_k - test_acc_k), ndigits=3)}\n",
    "Test AUC Score: {roc_score_k.round(decimals = 3)}\n",
    "Precision: {precision_k.round(decimals = 3)}\n",
    "Recall: {recall_k.round(decimals = 3)}\n",
    "\"\"\")"
   ]
  },
  {
   "cell_type": "code",
   "execution_count": 41,
   "id": "041c3695",
   "metadata": {},
   "outputs": [
    {
     "name": "stdout",
     "output_type": "stream",
     "text": [
      "\n",
      "True Negatives : 164\n",
      "False Positives: 66\n",
      "False Negatives: 150\n",
      "True Positives : 211\n",
      "\n"
     ]
    }
   ],
   "source": [
    "# unpacking the confusion matrix\n",
    "model_k_tn, \\\n",
    "model_k_fp, \\\n",
    "model_k_fn, \\\n",
    "model_k_tp = confusion_matrix(y_true = y_test, y_pred = adjusted_predictions_k).ravel()\n",
    "\n",
    "\n",
    "# printing each result one-by-one\n",
    "print(f\"\"\"\n",
    "True Negatives : {model_k_tn}\n",
    "False Positives: {model_k_fp}\n",
    "False Negatives: {model_k_fn}\n",
    "True Positives : {model_k_tp}\n",
    "\"\"\")"
   ]
  },
  {
   "cell_type": "markdown",
   "id": "09e9b931",
   "metadata": {},
   "source": [
    "<b>Model Results</b><br>\n",
    "The analysis aims to evaluate the impact of photo content on social media engagement.<b> Model 1</b>, which uses the original x-features, appears to be the best choice among the three models. The following metrics were considered in choosing Model 1.\n",
    "\n",
    "1. AUC Score<br>\n",
    "    Model 1 has the highest AUC score (0.726) among the three models, indicating better overall performance in distinguishing between the photo and non-photo classes.<br><br>\n",
    "\n",
    "2. Train-Test Gap<br>\n",
    "    Model 1 has the smallest gap between train and test performance (0.006), indicating good generalization to unseen data and is less likely to be overfitting.<br><br>\n",
    "\n",
    "3. Comparable Precision and Recall<br>\n",
    "    Model 1 has a precision of 0.756 and a recall of 0.753, which are slightly lower than the corresponding values for Model 2 but still indicate a good balance between minimizing false positives and false negatives.<br><br>\n",
    "    \n",
    "4. Interpretability<br>\n",
    "    Since Model 1 uses the original x-features, it is more interpretable than the other models, which rely on transformed features (principal components or clusters).<br><br>\n",
    "    \n",
    "5. Custom Threshold<br>\n",
    "    To achieve a balance between precision and recall, a custom threshold of 0.64 was selected, which was the lowest among the tested models and close to the default threshold of 0.50.\n",
    "\n",
    "Given the importance of accurate photo content classification, Model 1 appears to be the best choice. It has the highest AUC score, a balanced precision and recall, and a small train-test gap, indicating good generalization to new data. Additionally, it also has a lower number of false positives and false negatives, minimizing the risks associated with misclassifying photos.\n",
    "\n",
    "Model 1, utilizing Logistic Regression with the original x-features, demonstrates significant p-values below 0.05, indicating the importance of all features in classifying a photo. Particularly, likes and wows exhibit a positive correlation, suggesting that posts with more likes and wows are more likely to contain photos. Conversely, posts with more hahas, sads, or angries are less likely to include photos.\n",
    "\n",
    "In summary, Model 1 (Original x-features) is selected as the preferred model due to its focus on precise analysis and the significance of minimizing irrelevant data in photo impact assessment. Its high precision and recall contribute to a cleaner dataset, allowing for a better understanding of the true impact of photo content on social media engagement. This, in turn, enables the generation of reliable recommendations for client video content strategies."
   ]
  },
  {
   "cell_type": "markdown",
   "id": "182101db",
   "metadata": {},
   "source": [
    "<h4> Confusion Matrix from Original x-features (Model 1) </h4>"
   ]
  },
  {
   "cell_type": "code",
   "execution_count": 42,
   "id": "6ee348e7",
   "metadata": {},
   "outputs": [
    {
     "name": "stdout",
     "output_type": "stream",
     "text": [
      "\n",
      "True Negatives : 142\n",
      "False Positives: 88\n",
      "False Negatives: 89\n",
      "True Positives : 272\n",
      "\n",
      "Train-Test Gap   : 0.006\n",
      "Test AUC Score: 0.734\n",
      "Precision: 0.756\n",
      "Recall: 0.753\n",
      "\n"
     ]
    }
   ],
   "source": [
    "# unpacking the confusion matrix\n",
    "logreg_tn, \\\n",
    "logreg_fp, \\\n",
    "logreg_fn, \\\n",
    "logreg_tp = confusion_matrix(y_true = y_test, y_pred = adjusted_predictions_orig).ravel()\n",
    "\n",
    "\n",
    "# printing each result one-by-one\n",
    "print(f\"\"\"\n",
    "True Negatives : {logreg_tn}\n",
    "False Positives: {logreg_fp}\n",
    "False Negatives: {logreg_fn}\n",
    "True Positives : {logreg_tp}\n",
    "\n",
    "Train-Test Gap   : {round(abs(train_score_o - test_score_o), ndigits=3)}\n",
    "Test AUC Score: {roc_score_o.round(decimals = 3)}\n",
    "Precision: {precision_orig.round(decimals = 3)}\n",
    "Recall: {recall_orig.round(decimals = 3)}\n",
    "\"\"\")"
   ]
  },
  {
   "cell_type": "markdown",
   "id": "4b7d73d5",
   "metadata": {},
   "source": [
    "<b>Confusion Matrix</b><br>\n",
    "\n",
    "<b>True Positives (TP)</b><br>\n",
    "    - There are 272 instances where the model correctly predicts a photo. This is beneficial for the business, as this indicate accurately identifying photo as engaging content.<br>\n",
    "\n",
    "<b>True Negatives (TN)</b><br>\n",
    "    - There are 142 instances where the model correctly predicts non-photo content. While not as valuable as TP, TN help filter out non-engaging content, maintaining the quality of the platform.<br>\n",
    "\n",
    "<b>False Positives (FP)</b><br>\n",
    "    - These are instances where the model incorrectly predicts a photo. Predicting a photo when it's not might lead to allocating resources for promoting content that doesn't actually need it, potentially wasting time and money. It could also result in missed opportunities to promote actual photo content that could drive higher engagement.<br>\n",
    "\n",
    "<b>False Negatives (FN)</b><br>\n",
    "    - These are instances where the model incorrectly predicts non-photo content. Predicting non-photo when it's actually a photo could result in missing opportunities to promote engaging photo content, leading to reduced engagement and missed chances for audience interaction.  It could also result in a skewed perception of the effectiveness of non-photo content, as some engaging photo content may be overlooked.\n",
    "\n",
    "While Model 1 performs well overall, it's crucial to communicate to business stakeholders the potential risks related to incorrect identifications (false positives and false negatives). These errors can impact the effectiveness of identifying and promoting engaging photo content, which is key for maximizing engagement metrics and connecting with the audience."
   ]
  },
  {
   "cell_type": "markdown",
   "id": "4178ffa8",
   "metadata": {},
   "source": [
    "<b>References</b>\n",
    "\n",
    "Adobe Communications. (October, 2021). Is photo or video better for social media engagement? https://blog.adobe.com/en/publish/2021/10/07/is-photo-or-video-better-for-social-media-engagement\n",
    "\n",
    "Apiradee Wongkitrungrueng, Nassim Dehouche & Nuttapol Assarut (2020): Live streaming commerce from the sellers’ perspective: implications for online relationship marketing, Journal of Marketing Management. https://www.tandfonline.com/doi/abs/10.1080/0267257X.2020.1748895\n",
    "\n",
    "BrandDad Social.(December, 2023). Decoding Facebook Reactions: Understanding the True Meanings of Like, Love, Care, Laugh, Wow, Sad, and Angry. https://medium.com/@branddadsocial/decoding-facebook-reactions-understanding-the-true-meanings-of-like-love-care-laugh-wow-sad-7538f01b4ce8\n",
    "\n",
    "Joleen. (October 2021). Principal Component Analysis in Python. \n",
    "    https://statisticallyrelevant.com/principal-component-analysis-in-python/\n",
    "    \n",
    "Kaushik, Sauravkaushik8. (February, 2024). Clustering | Different Methods, and Applications. https://www.analyticsvidhya.com/blog/2016/11/an-introduction-to-clustering-and-different-methods-of-clustering/\n",
    "    \n",
    "Mayer, Beth Ann. (February, 2023). When Should You Select 'Love' vs. 'Care' on Facebook? What Communication Experts Want You To Know About Emoticon Etiquette. https://parade.com/living/facebook-reactions#should-you-use-love-or-care\n",
    "\n",
    "Noble, Joshua. (March, 2024). Implement hierarchical clustering in R. https://developer.ibm.com/tutorials/awb-implement-hierarchical-clustering-in-r/\n",
    "\n",
    "StackOverflow.(2019). How to get the optimal number of clusters using hierarchical cluster analysis automatically in python?\n",
    "https://stackoverflow.com/questions/50695226/how-to-get-the-optimal-number-of-clusters-using-hierarchical-cluster-analysis-au\n",
    "\n",
    "Sumner, E. M., Ruge-Jones, L., & Alcorn, D. (2017). A functional approach to the Facebook Like button: An exploration of meaning, interpersonal functionality, and potential alternative response buttons. New Media & Society, 20(4), 1451–1469. doi:10.1177/1461444817697917 \n",
    "\n",
    "Toledo Jr., Tiago. (January 2022). PCA 102: Should you use PCA? How many components to use?.        \n",
    "    https://towardsdatascience.com/pca-102-should-you-use-pca-how-many-components-to-use-how-to-interpret-them-da0c8e3b11f0\n",
    "\n",
    "Thoopkrajae Veena & Laiyok Sukhumaporn. (November, 2021). How live streaming is transforming shopping in Thailand.\n",
    "    https://www.thaipbsworld.com/how-live-streaming-is-transforming-shopping-in-thailand/\n",
    "\n",
    "Wild, Felicity Wild. (March, 2016). How to interpret Facebook reactions. https://digitalcommunications.wp.st-andrews.ac.uk/2016/03/16/how-to-interpret-facebook-reactions/"
   ]
  }
 ],
 "metadata": {
  "kernelspec": {
   "display_name": "Python 3 (ipykernel)",
   "language": "python",
   "name": "python3"
  },
  "language_info": {
   "codemirror_mode": {
    "name": "ipython",
    "version": 3
   },
   "file_extension": ".py",
   "mimetype": "text/x-python",
   "name": "python",
   "nbconvert_exporter": "python",
   "pygments_lexer": "ipython3",
   "version": "3.11.5"
  },
  "toc": {
   "base_numbering": 1,
   "nav_menu": {},
   "number_sections": true,
   "sideBar": true,
   "skip_h1_title": false,
   "title_cell": "Table of Contents",
   "title_sidebar": "Contents",
   "toc_cell": false,
   "toc_position": {},
   "toc_section_display": true,
   "toc_window_display": false
  },
  "varInspector": {
   "cols": {
    "lenName": 16,
    "lenType": 16,
    "lenVar": 40
   },
   "kernels_config": {
    "python": {
     "delete_cmd_postfix": "",
     "delete_cmd_prefix": "del ",
     "library": "var_list.py",
     "varRefreshCmd": "print(var_dic_list())"
    },
    "r": {
     "delete_cmd_postfix": ") ",
     "delete_cmd_prefix": "rm(",
     "library": "var_list.r",
     "varRefreshCmd": "cat(var_dic_list()) "
    }
   },
   "types_to_exclude": [
    "module",
    "function",
    "builtin_function_or_method",
    "instance",
    "_Feature"
   ],
   "window_display": false
  }
 },
 "nbformat": 4,
 "nbformat_minor": 5
}
